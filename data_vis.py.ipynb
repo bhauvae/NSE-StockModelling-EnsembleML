{
 "cells": [
  {
   "cell_type": "code",
   "execution_count": 1,
   "id": "initial_id",
   "metadata": {
    "collapsed": true,
    "ExecuteTime": {
     "end_time": "2023-10-09T07:49:39.351507100Z",
     "start_time": "2023-10-09T07:49:31.792731Z"
    }
   },
   "outputs": [],
   "source": [
    "import pandas as pd\n",
    "d = pd.read_pickle(\"./scores.pkl\")"
   ]
  },
  {
   "cell_type": "code",
   "execution_count": 3,
   "outputs": [
    {
     "data": {
      "text/plain": "5y  svm_acc     0.522212\n    knn_acc     0.796387\n    rf_acc      0.839543\n    xgb_acc     0.874492\n    lstm_acc    0.753263\n2y  svm_acc     0.521127\n    knn_acc     0.672059\n    rf_acc      0.826916\n    gb_acc      0.584969\n    xgb_acc     0.856141\n1y  svm_acc     0.509231\n    knn_acc     0.681350\n    rf_acc      0.826185\n    gb_acc      0.567246\n    lstm_acc    0.674562\ndtype: float64"
     },
     "execution_count": 3,
     "metadata": {},
     "output_type": "execute_result"
    }
   ],
   "source": [
    "d.mean(numeric_only=True)"
   ],
   "metadata": {
    "collapsed": false,
    "ExecuteTime": {
     "end_time": "2023-10-04T04:50:54.958254400Z",
     "start_time": "2023-10-04T04:50:54.905723600Z"
    }
   },
   "id": "88d8a17d5c852b93"
  },
  {
   "cell_type": "code",
   "execution_count": 2,
   "outputs": [],
   "source": [
    "d2 = pd.read_pickle(\"./scores_untouched.pkl\")"
   ],
   "metadata": {
    "collapsed": false,
    "ExecuteTime": {
     "end_time": "2023-10-09T07:49:49.987592400Z",
     "start_time": "2023-10-09T07:49:49.912595500Z"
    }
   },
   "id": "d36a49282f42540b"
  },
  {
   "cell_type": "code",
   "execution_count": 4,
   "outputs": [
    {
     "data": {
      "text/plain": "5y  svm_acc        0.522212\n    svm_prec       0.287271\n    svm_recall     0.547063\n    svm_f1         0.370780\n    knn_acc        0.796387\n                     ...   \n1y  xgb_f1         0.846913\n    lstm_acc       0.674562\n    lstm_prec      0.704511\n    lstm_recall    0.685759\n    lstm_f1        0.659858\nLength: 72, dtype: float64"
     },
     "execution_count": 4,
     "metadata": {},
     "output_type": "execute_result"
    }
   ],
   "source": [
    "d2.mean()"
   ],
   "metadata": {
    "collapsed": false,
    "ExecuteTime": {
     "end_time": "2023-10-09T07:50:00.280326900Z",
     "start_time": "2023-10-09T07:50:00.227322700Z"
    }
   },
   "id": "d2a7a9256345790f"
  },
  {
   "cell_type": "code",
   "execution_count": null,
   "outputs": [],
   "source": [],
   "metadata": {
    "collapsed": false
   },
   "id": "35f063b491d45f7d"
  }
 ],
 "metadata": {
  "kernelspec": {
   "display_name": "Python 3",
   "language": "python",
   "name": "python3"
  },
  "language_info": {
   "codemirror_mode": {
    "name": "ipython",
    "version": 2
   },
   "file_extension": ".py",
   "mimetype": "text/x-python",
   "name": "python",
   "nbconvert_exporter": "python",
   "pygments_lexer": "ipython2",
   "version": "2.7.6"
  }
 },
 "nbformat": 4,
 "nbformat_minor": 5
}
