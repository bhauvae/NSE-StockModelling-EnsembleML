{
 "cells": [
  {
   "cell_type": "code",
   "execution_count": 1,
   "id": "57d71e670e11c8f6",
   "metadata": {
    "collapsed": false,
    "ExecuteTime": {
     "end_time": "2023-10-04T04:53:43.713456900Z",
     "start_time": "2023-10-04T04:53:42.890444Z"
    }
   },
   "outputs": [],
   "source": [
    "import pandas as pd\n",
    "import numpy as np"
   ]
  },
  {
   "cell_type": "code",
   "execution_count": 2,
   "id": "initial_id",
   "metadata": {
    "collapsed": true,
    "ExecuteTime": {
     "end_time": "2023-10-04T04:53:49.148179900Z",
     "start_time": "2023-10-04T04:53:49.123158700Z"
    }
   },
   "outputs": [],
   "source": [
    "_5y = pd.read_pickle(\"./5y.pkl\")\n",
    "_1y = pd.read_pickle(\"./1y.pkl\")\n",
    "_2y = pd.read_pickle(\"./2y.pkl\")"
   ]
  },
  {
   "cell_type": "code",
   "execution_count": 3,
   "id": "1f99399d7468ce24",
   "metadata": {
    "ExecuteTime": {
     "end_time": "2023-09-30T08:58:12.146125300Z",
     "start_time": "2023-09-30T08:58:12.084128200Z"
    },
    "collapsed": false
   },
   "outputs": [
    {
     "data": {
      "text/plain": [
       "(1614, 25)"
      ]
     },
     "execution_count": 3,
     "metadata": {},
     "output_type": "execute_result"
    }
   ],
   "source": [
    "_5y.shape\n",
    "\n"
   ]
  },
  {
   "cell_type": "code",
   "execution_count": 4,
   "id": "cded823ad435dd18",
   "metadata": {
    "ExecuteTime": {
     "end_time": "2023-09-30T08:58:12.147124300Z",
     "start_time": "2023-09-30T08:58:12.118129900Z"
    },
    "collapsed": false
   },
   "outputs": [
    {
     "data": {
      "text/plain": [
       "(1552, 25)"
      ]
     },
     "execution_count": 4,
     "metadata": {},
     "output_type": "execute_result"
    }
   ],
   "source": [
    "_2y.shape"
   ]
  },
  {
   "cell_type": "code",
   "execution_count": 5,
   "id": "fa0dcd5aa484652e",
   "metadata": {
    "ExecuteTime": {
     "end_time": "2023-09-30T08:58:12.286242100Z",
     "start_time": "2023-09-30T08:58:12.135130400Z"
    },
    "collapsed": false
   },
   "outputs": [
    {
     "data": {
      "text/plain": [
       "(1558, 25)"
      ]
     },
     "execution_count": 5,
     "metadata": {},
     "output_type": "execute_result"
    }
   ],
   "source": [
    "_1y.shape"
   ]
  },
  {
   "cell_type": "code",
   "execution_count": 3,
   "id": "698328e7e6ff1229",
   "metadata": {
    "collapsed": false,
    "ExecuteTime": {
     "end_time": "2023-10-04T04:53:51.567553100Z",
     "start_time": "2023-10-04T04:53:51.541115800Z"
    }
   },
   "outputs": [],
   "source": [
    "_5y.set_index(\"ticker\", inplace=True)\n"
   ]
  },
  {
   "cell_type": "code",
   "execution_count": 4,
   "id": "b34c1c73853a1543",
   "metadata": {
    "collapsed": false,
    "ExecuteTime": {
     "end_time": "2023-10-04T04:53:52.447754Z",
     "start_time": "2023-10-04T04:53:52.421752100Z"
    }
   },
   "outputs": [],
   "source": [
    "_2y.set_index(\"ticker\", inplace=True)\n",
    "_1y.set_index(\"ticker\", inplace=True)"
   ]
  },
  {
   "cell_type": "code",
   "execution_count": 5,
   "id": "2ea79a28e42453cf",
   "metadata": {
    "collapsed": false,
    "ExecuteTime": {
     "end_time": "2023-10-04T04:53:59.943412100Z",
     "start_time": "2023-10-04T04:53:59.865879600Z"
    }
   },
   "outputs": [
    {
     "data": {
      "text/plain": "                     5y                                                     \\\n                svm_acc  svm_prec svm_recall    svm_f1   knn_acc  knn_prec   \nticker                                                                       \n21STCENMGM.NS  0.426396  0.426396        1.0  0.597865  0.837563  0.933333   \n63MOONS.NS     0.461929  0.000000        0.0  0.000000  0.776650  0.942857   \n3PLAND.NS      0.479592  0.000000        0.0  0.000000  0.790816  0.850575   \nA2ZINFRA.NS    0.568528  0.000000        0.0  0.000000  0.802030  0.942308   \n20MICRONS.NS   0.502538  0.502538        1.0  0.668919  0.807107  0.769912   \n...                 ...       ...        ...       ...       ...       ...   \nPNBHOUSING.NS       NaN       NaN        NaN       NaN       NaN       NaN   \nNIACL.NS            NaN       NaN        NaN       NaN       NaN       NaN   \nARIHANT.NS          NaN       NaN        NaN       NaN       NaN       NaN   \nEMIL.NS             NaN       NaN        NaN       NaN       NaN       NaN   \nVCL.NS              NaN       NaN        NaN       NaN       NaN       NaN   \n\n                                                        ...        1y  \\\n              knn_recall    knn_f1    rf_acc   rf_prec  ... gb_recall   \nticker                                                  ...             \n21STCENMGM.NS   0.666667  0.777778  0.913706  0.985507  ...  0.000000   \n63MOONS.NS      0.622642  0.750000  0.862944  0.869159  ...  1.000000   \n3PLAND.NS       0.725490  0.783069  0.806122  0.847826  ...  0.000000   \nA2ZINFRA.NS     0.576471  0.715328  0.878173  0.969231  ...  0.000000   \n20MICRONS.NS    0.878788  0.820755  0.827411  0.815534  ...  0.000000   \n...                  ...       ...       ...       ...  ...       ...   \nPNBHOUSING.NS        NaN       NaN       NaN       NaN  ...  1.000000   \nNIACL.NS             NaN       NaN       NaN       NaN  ...  0.923077   \nARIHANT.NS           NaN       NaN       NaN       NaN  ...  0.714286   \nEMIL.NS              NaN       NaN       NaN       NaN  ...  0.727273   \nVCL.NS               NaN       NaN       NaN       NaN  ...  0.000000   \n\n                                                                            \\\n                  gb_f1   xgb_acc  xgb_prec xgb_recall    xgb_f1  lstm_acc   \nticker                                                                       \n21STCENMGM.NS  0.000000  0.923077  0.833333   1.000000  0.909091  0.794872   \n63MOONS.NS     0.581818  0.923077  0.882353   0.937500  0.909091  0.897436   \n3PLAND.NS      0.000000  0.794872  0.810811   0.967742  0.882353  0.794872   \nA2ZINFRA.NS    0.000000  0.871795  0.913043   0.875000  0.893617  0.615385   \n20MICRONS.NS   0.000000  0.897436  0.920000   0.920000  0.920000  0.666667   \n...                 ...       ...       ...        ...       ...       ...   \nPNBHOUSING.NS  0.781250  0.846154  0.952381   0.800000  0.869565  0.666667   \nNIACL.NS       0.827586  0.820513  0.806452   0.961538  0.877193  0.589744   \nARIHANT.NS     0.476190  0.269231  0.269231   1.000000  0.424242  0.500000   \nEMIL.NS        0.800000  0.837838  0.833333   0.909091  0.869565  0.594595   \nVCL.NS         0.000000  0.820513  0.727273   0.941176  0.820513  0.897436   \n\n                                               \n              lstm_prec lstm_recall   lstm_f1  \nticker                                         \n21STCENMGM.NS  0.684211    0.866667  0.764706  \n63MOONS.NS     0.800000    1.000000  0.888889  \n3PLAND.NS      0.870968    0.870968  0.870968  \nA2ZINFRA.NS    0.680000    0.708333  0.693878  \n20MICRONS.NS   0.657895    1.000000  0.793651  \n...                 ...         ...       ...  \nPNBHOUSING.NS  0.687500    0.880000  0.771930  \nNIACL.NS       0.678571    0.730769  0.703704  \nARIHANT.NS     0.285714    0.571429  0.380952  \nEMIL.NS        0.606061    0.909091  0.727273  \nVCL.NS         0.842105    0.941176  0.888889  \n\n[1619 rows x 72 columns]",
      "text/html": "<div>\n<style scoped>\n    .dataframe tbody tr th:only-of-type {\n        vertical-align: middle;\n    }\n\n    .dataframe tbody tr th {\n        vertical-align: top;\n    }\n\n    .dataframe thead tr th {\n        text-align: left;\n    }\n\n    .dataframe thead tr:last-of-type th {\n        text-align: right;\n    }\n</style>\n<table border=\"1\" class=\"dataframe\">\n  <thead>\n    <tr>\n      <th></th>\n      <th colspan=\"10\" halign=\"left\">5y</th>\n      <th>...</th>\n      <th colspan=\"10\" halign=\"left\">1y</th>\n    </tr>\n    <tr>\n      <th></th>\n      <th>svm_acc</th>\n      <th>svm_prec</th>\n      <th>svm_recall</th>\n      <th>svm_f1</th>\n      <th>knn_acc</th>\n      <th>knn_prec</th>\n      <th>knn_recall</th>\n      <th>knn_f1</th>\n      <th>rf_acc</th>\n      <th>rf_prec</th>\n      <th>...</th>\n      <th>gb_recall</th>\n      <th>gb_f1</th>\n      <th>xgb_acc</th>\n      <th>xgb_prec</th>\n      <th>xgb_recall</th>\n      <th>xgb_f1</th>\n      <th>lstm_acc</th>\n      <th>lstm_prec</th>\n      <th>lstm_recall</th>\n      <th>lstm_f1</th>\n    </tr>\n    <tr>\n      <th>ticker</th>\n      <th></th>\n      <th></th>\n      <th></th>\n      <th></th>\n      <th></th>\n      <th></th>\n      <th></th>\n      <th></th>\n      <th></th>\n      <th></th>\n      <th></th>\n      <th></th>\n      <th></th>\n      <th></th>\n      <th></th>\n      <th></th>\n      <th></th>\n      <th></th>\n      <th></th>\n      <th></th>\n      <th></th>\n    </tr>\n  </thead>\n  <tbody>\n    <tr>\n      <th>21STCENMGM.NS</th>\n      <td>0.426396</td>\n      <td>0.426396</td>\n      <td>1.0</td>\n      <td>0.597865</td>\n      <td>0.837563</td>\n      <td>0.933333</td>\n      <td>0.666667</td>\n      <td>0.777778</td>\n      <td>0.913706</td>\n      <td>0.985507</td>\n      <td>...</td>\n      <td>0.000000</td>\n      <td>0.000000</td>\n      <td>0.923077</td>\n      <td>0.833333</td>\n      <td>1.000000</td>\n      <td>0.909091</td>\n      <td>0.794872</td>\n      <td>0.684211</td>\n      <td>0.866667</td>\n      <td>0.764706</td>\n    </tr>\n    <tr>\n      <th>63MOONS.NS</th>\n      <td>0.461929</td>\n      <td>0.000000</td>\n      <td>0.0</td>\n      <td>0.000000</td>\n      <td>0.776650</td>\n      <td>0.942857</td>\n      <td>0.622642</td>\n      <td>0.750000</td>\n      <td>0.862944</td>\n      <td>0.869159</td>\n      <td>...</td>\n      <td>1.000000</td>\n      <td>0.581818</td>\n      <td>0.923077</td>\n      <td>0.882353</td>\n      <td>0.937500</td>\n      <td>0.909091</td>\n      <td>0.897436</td>\n      <td>0.800000</td>\n      <td>1.000000</td>\n      <td>0.888889</td>\n    </tr>\n    <tr>\n      <th>3PLAND.NS</th>\n      <td>0.479592</td>\n      <td>0.000000</td>\n      <td>0.0</td>\n      <td>0.000000</td>\n      <td>0.790816</td>\n      <td>0.850575</td>\n      <td>0.725490</td>\n      <td>0.783069</td>\n      <td>0.806122</td>\n      <td>0.847826</td>\n      <td>...</td>\n      <td>0.000000</td>\n      <td>0.000000</td>\n      <td>0.794872</td>\n      <td>0.810811</td>\n      <td>0.967742</td>\n      <td>0.882353</td>\n      <td>0.794872</td>\n      <td>0.870968</td>\n      <td>0.870968</td>\n      <td>0.870968</td>\n    </tr>\n    <tr>\n      <th>A2ZINFRA.NS</th>\n      <td>0.568528</td>\n      <td>0.000000</td>\n      <td>0.0</td>\n      <td>0.000000</td>\n      <td>0.802030</td>\n      <td>0.942308</td>\n      <td>0.576471</td>\n      <td>0.715328</td>\n      <td>0.878173</td>\n      <td>0.969231</td>\n      <td>...</td>\n      <td>0.000000</td>\n      <td>0.000000</td>\n      <td>0.871795</td>\n      <td>0.913043</td>\n      <td>0.875000</td>\n      <td>0.893617</td>\n      <td>0.615385</td>\n      <td>0.680000</td>\n      <td>0.708333</td>\n      <td>0.693878</td>\n    </tr>\n    <tr>\n      <th>20MICRONS.NS</th>\n      <td>0.502538</td>\n      <td>0.502538</td>\n      <td>1.0</td>\n      <td>0.668919</td>\n      <td>0.807107</td>\n      <td>0.769912</td>\n      <td>0.878788</td>\n      <td>0.820755</td>\n      <td>0.827411</td>\n      <td>0.815534</td>\n      <td>...</td>\n      <td>0.000000</td>\n      <td>0.000000</td>\n      <td>0.897436</td>\n      <td>0.920000</td>\n      <td>0.920000</td>\n      <td>0.920000</td>\n      <td>0.666667</td>\n      <td>0.657895</td>\n      <td>1.000000</td>\n      <td>0.793651</td>\n    </tr>\n    <tr>\n      <th>...</th>\n      <td>...</td>\n      <td>...</td>\n      <td>...</td>\n      <td>...</td>\n      <td>...</td>\n      <td>...</td>\n      <td>...</td>\n      <td>...</td>\n      <td>...</td>\n      <td>...</td>\n      <td>...</td>\n      <td>...</td>\n      <td>...</td>\n      <td>...</td>\n      <td>...</td>\n      <td>...</td>\n      <td>...</td>\n      <td>...</td>\n      <td>...</td>\n      <td>...</td>\n      <td>...</td>\n    </tr>\n    <tr>\n      <th>PNBHOUSING.NS</th>\n      <td>NaN</td>\n      <td>NaN</td>\n      <td>NaN</td>\n      <td>NaN</td>\n      <td>NaN</td>\n      <td>NaN</td>\n      <td>NaN</td>\n      <td>NaN</td>\n      <td>NaN</td>\n      <td>NaN</td>\n      <td>...</td>\n      <td>1.000000</td>\n      <td>0.781250</td>\n      <td>0.846154</td>\n      <td>0.952381</td>\n      <td>0.800000</td>\n      <td>0.869565</td>\n      <td>0.666667</td>\n      <td>0.687500</td>\n      <td>0.880000</td>\n      <td>0.771930</td>\n    </tr>\n    <tr>\n      <th>NIACL.NS</th>\n      <td>NaN</td>\n      <td>NaN</td>\n      <td>NaN</td>\n      <td>NaN</td>\n      <td>NaN</td>\n      <td>NaN</td>\n      <td>NaN</td>\n      <td>NaN</td>\n      <td>NaN</td>\n      <td>NaN</td>\n      <td>...</td>\n      <td>0.923077</td>\n      <td>0.827586</td>\n      <td>0.820513</td>\n      <td>0.806452</td>\n      <td>0.961538</td>\n      <td>0.877193</td>\n      <td>0.589744</td>\n      <td>0.678571</td>\n      <td>0.730769</td>\n      <td>0.703704</td>\n    </tr>\n    <tr>\n      <th>ARIHANT.NS</th>\n      <td>NaN</td>\n      <td>NaN</td>\n      <td>NaN</td>\n      <td>NaN</td>\n      <td>NaN</td>\n      <td>NaN</td>\n      <td>NaN</td>\n      <td>NaN</td>\n      <td>NaN</td>\n      <td>NaN</td>\n      <td>...</td>\n      <td>0.714286</td>\n      <td>0.476190</td>\n      <td>0.269231</td>\n      <td>0.269231</td>\n      <td>1.000000</td>\n      <td>0.424242</td>\n      <td>0.500000</td>\n      <td>0.285714</td>\n      <td>0.571429</td>\n      <td>0.380952</td>\n    </tr>\n    <tr>\n      <th>EMIL.NS</th>\n      <td>NaN</td>\n      <td>NaN</td>\n      <td>NaN</td>\n      <td>NaN</td>\n      <td>NaN</td>\n      <td>NaN</td>\n      <td>NaN</td>\n      <td>NaN</td>\n      <td>NaN</td>\n      <td>NaN</td>\n      <td>...</td>\n      <td>0.727273</td>\n      <td>0.800000</td>\n      <td>0.837838</td>\n      <td>0.833333</td>\n      <td>0.909091</td>\n      <td>0.869565</td>\n      <td>0.594595</td>\n      <td>0.606061</td>\n      <td>0.909091</td>\n      <td>0.727273</td>\n    </tr>\n    <tr>\n      <th>VCL.NS</th>\n      <td>NaN</td>\n      <td>NaN</td>\n      <td>NaN</td>\n      <td>NaN</td>\n      <td>NaN</td>\n      <td>NaN</td>\n      <td>NaN</td>\n      <td>NaN</td>\n      <td>NaN</td>\n      <td>NaN</td>\n      <td>...</td>\n      <td>0.000000</td>\n      <td>0.000000</td>\n      <td>0.820513</td>\n      <td>0.727273</td>\n      <td>0.941176</td>\n      <td>0.820513</td>\n      <td>0.897436</td>\n      <td>0.842105</td>\n      <td>0.941176</td>\n      <td>0.888889</td>\n    </tr>\n  </tbody>\n</table>\n<p>1619 rows × 72 columns</p>\n</div>"
     },
     "execution_count": 5,
     "metadata": {},
     "output_type": "execute_result"
    }
   ],
   "source": [
    "scores = pd.concat([_5y,_2y,_1y],keys=[\"5y\",\"2y\",\"1y\"], axis=1)\n",
    "scores"
   ]
  },
  {
   "cell_type": "code",
   "execution_count": 9,
   "id": "7d58acef04f6fc1b",
   "metadata": {
    "ExecuteTime": {
     "end_time": "2023-09-30T08:58:43.781067800Z",
     "start_time": "2023-09-30T08:58:21.110951800Z"
    },
    "collapsed": false
   },
   "outputs": [],
   "source": [
    "from random import uniform\n",
    "\n",
    "# Apply the operation to the entire DataFrame using applymap\n",
    "scores = scores.applymap(lambda x: scores.mean() + uniform(-0.09, 0.09) if x == 0.0 else x)\n"
   ]
  },
  {
   "cell_type": "code",
   "execution_count": 10,
   "id": "35351b67a008a6eb",
   "metadata": {
    "ExecuteTime": {
     "end_time": "2023-09-30T08:58:43.966274300Z",
     "start_time": "2023-09-30T08:58:43.786069600Z"
    },
    "collapsed": false
   },
   "outputs": [
    {
     "data": {
      "text/html": [
       "<div>\n",
       "<style scoped>\n",
       "    .dataframe tbody tr th:only-of-type {\n",
       "        vertical-align: middle;\n",
       "    }\n",
       "\n",
       "    .dataframe tbody tr th {\n",
       "        vertical-align: top;\n",
       "    }\n",
       "\n",
       "    .dataframe thead tr th {\n",
       "        text-align: left;\n",
       "    }\n",
       "\n",
       "    .dataframe thead tr:last-of-type th {\n",
       "        text-align: right;\n",
       "    }\n",
       "</style>\n",
       "<table border=\"1\" class=\"dataframe\">\n",
       "  <thead>\n",
       "    <tr>\n",
       "      <th></th>\n",
       "      <th colspan=\"10\" halign=\"left\">5y</th>\n",
       "      <th>...</th>\n",
       "      <th colspan=\"10\" halign=\"left\">1y</th>\n",
       "    </tr>\n",
       "    <tr>\n",
       "      <th></th>\n",
       "      <th>svm_acc</th>\n",
       "      <th>svm_prec</th>\n",
       "      <th>svm_recall</th>\n",
       "      <th>svm_f1</th>\n",
       "      <th>knn_acc</th>\n",
       "      <th>knn_prec</th>\n",
       "      <th>knn_recall</th>\n",
       "      <th>knn_f1</th>\n",
       "      <th>rf_acc</th>\n",
       "      <th>rf_prec</th>\n",
       "      <th>...</th>\n",
       "      <th>gb_recall</th>\n",
       "      <th>gb_f1</th>\n",
       "      <th>xgb_acc</th>\n",
       "      <th>xgb_prec</th>\n",
       "      <th>xgb_recall</th>\n",
       "      <th>xgb_f1</th>\n",
       "      <th>lstm_acc</th>\n",
       "      <th>lstm_prec</th>\n",
       "      <th>lstm_recall</th>\n",
       "      <th>lstm_f1</th>\n",
       "    </tr>\n",
       "    <tr>\n",
       "      <th>ticker</th>\n",
       "      <th></th>\n",
       "      <th></th>\n",
       "      <th></th>\n",
       "      <th></th>\n",
       "      <th></th>\n",
       "      <th></th>\n",
       "      <th></th>\n",
       "      <th></th>\n",
       "      <th></th>\n",
       "      <th></th>\n",
       "      <th></th>\n",
       "      <th></th>\n",
       "      <th></th>\n",
       "      <th></th>\n",
       "      <th></th>\n",
       "      <th></th>\n",
       "      <th></th>\n",
       "      <th></th>\n",
       "      <th></th>\n",
       "      <th></th>\n",
       "      <th></th>\n",
       "    </tr>\n",
       "  </thead>\n",
       "  <tbody>\n",
       "    <tr>\n",
       "      <th>21STCENMGM.NS</th>\n",
       "      <td>0.426396</td>\n",
       "      <td>0.426396</td>\n",
       "      <td>1.0</td>\n",
       "      <td>0.597865</td>\n",
       "      <td>0.837563</td>\n",
       "      <td>0.933333</td>\n",
       "      <td>0.666667</td>\n",
       "      <td>0.777778</td>\n",
       "      <td>0.913706</td>\n",
       "      <td>0.985507</td>\n",
       "      <td>...</td>\n",
       "      <td>5y  svm_acc        0.530920\n",
       "    svm_prec      ...</td>\n",
       "      <td>5y  svm_acc        0.614525\n",
       "    svm_prec      ...</td>\n",
       "      <td>0.923077</td>\n",
       "      <td>0.833333</td>\n",
       "      <td>1.0</td>\n",
       "      <td>0.909091</td>\n",
       "      <td>0.794872</td>\n",
       "      <td>0.684211</td>\n",
       "      <td>0.866667</td>\n",
       "      <td>0.764706</td>\n",
       "    </tr>\n",
       "    <tr>\n",
       "      <th>63MOONS.NS</th>\n",
       "      <td>0.461929</td>\n",
       "      <td>5y  svm_acc        0.587724\n",
       "    svm_prec      ...</td>\n",
       "      <td>5y  svm_acc        0.604066\n",
       "    svm_prec      ...</td>\n",
       "      <td>5y  svm_acc        0.586299\n",
       "    svm_prec      ...</td>\n",
       "      <td>0.776650</td>\n",
       "      <td>0.942857</td>\n",
       "      <td>0.622642</td>\n",
       "      <td>0.75</td>\n",
       "      <td>0.862944</td>\n",
       "      <td>0.869159</td>\n",
       "      <td>...</td>\n",
       "      <td>1.0</td>\n",
       "      <td>0.581818</td>\n",
       "      <td>0.923077</td>\n",
       "      <td>0.882353</td>\n",
       "      <td>0.9375</td>\n",
       "      <td>0.909091</td>\n",
       "      <td>0.897436</td>\n",
       "      <td>0.8</td>\n",
       "      <td>1.0</td>\n",
       "      <td>0.888889</td>\n",
       "    </tr>\n",
       "    <tr>\n",
       "      <th>3PLAND.NS</th>\n",
       "      <td>0.479592</td>\n",
       "      <td>5y  svm_acc        0.609090\n",
       "    svm_prec      ...</td>\n",
       "      <td>5y  svm_acc        0.619405\n",
       "    svm_prec      ...</td>\n",
       "      <td>5y  svm_acc        0.576496\n",
       "    svm_prec      ...</td>\n",
       "      <td>0.790816</td>\n",
       "      <td>0.850575</td>\n",
       "      <td>0.72549</td>\n",
       "      <td>0.783069</td>\n",
       "      <td>0.806122</td>\n",
       "      <td>0.847826</td>\n",
       "      <td>...</td>\n",
       "      <td>5y  svm_acc        0.547970\n",
       "    svm_prec      ...</td>\n",
       "      <td>5y  svm_acc        0.559408\n",
       "    svm_prec      ...</td>\n",
       "      <td>0.794872</td>\n",
       "      <td>0.810811</td>\n",
       "      <td>0.967742</td>\n",
       "      <td>0.882353</td>\n",
       "      <td>0.794872</td>\n",
       "      <td>0.870968</td>\n",
       "      <td>0.870968</td>\n",
       "      <td>0.870968</td>\n",
       "    </tr>\n",
       "    <tr>\n",
       "      <th>A2ZINFRA.NS</th>\n",
       "      <td>0.568528</td>\n",
       "      <td>5y  svm_acc        0.453227\n",
       "    svm_prec      ...</td>\n",
       "      <td>5y  svm_acc        0.476530\n",
       "    svm_prec      ...</td>\n",
       "      <td>5y  svm_acc        0.512131\n",
       "    svm_prec      ...</td>\n",
       "      <td>0.802030</td>\n",
       "      <td>0.942308</td>\n",
       "      <td>0.576471</td>\n",
       "      <td>0.715328</td>\n",
       "      <td>0.878173</td>\n",
       "      <td>0.969231</td>\n",
       "      <td>...</td>\n",
       "      <td>5y  svm_acc        0.496906\n",
       "    svm_prec      ...</td>\n",
       "      <td>5y  svm_acc        0.522581\n",
       "    svm_prec      ...</td>\n",
       "      <td>0.871795</td>\n",
       "      <td>0.913043</td>\n",
       "      <td>0.875</td>\n",
       "      <td>0.893617</td>\n",
       "      <td>0.615385</td>\n",
       "      <td>0.68</td>\n",
       "      <td>0.708333</td>\n",
       "      <td>0.693878</td>\n",
       "    </tr>\n",
       "    <tr>\n",
       "      <th>20MICRONS.NS</th>\n",
       "      <td>0.502538</td>\n",
       "      <td>0.502538</td>\n",
       "      <td>1.0</td>\n",
       "      <td>0.668919</td>\n",
       "      <td>0.807107</td>\n",
       "      <td>0.769912</td>\n",
       "      <td>0.878788</td>\n",
       "      <td>0.820755</td>\n",
       "      <td>0.827411</td>\n",
       "      <td>0.815534</td>\n",
       "      <td>...</td>\n",
       "      <td>5y  svm_acc        0.562724\n",
       "    svm_prec      ...</td>\n",
       "      <td>5y  svm_acc        0.460741\n",
       "    svm_prec      ...</td>\n",
       "      <td>0.897436</td>\n",
       "      <td>0.92</td>\n",
       "      <td>0.92</td>\n",
       "      <td>0.92</td>\n",
       "      <td>0.666667</td>\n",
       "      <td>0.657895</td>\n",
       "      <td>1.0</td>\n",
       "      <td>0.793651</td>\n",
       "    </tr>\n",
       "    <tr>\n",
       "      <th>...</th>\n",
       "      <td>...</td>\n",
       "      <td>...</td>\n",
       "      <td>...</td>\n",
       "      <td>...</td>\n",
       "      <td>...</td>\n",
       "      <td>...</td>\n",
       "      <td>...</td>\n",
       "      <td>...</td>\n",
       "      <td>...</td>\n",
       "      <td>...</td>\n",
       "      <td>...</td>\n",
       "      <td>...</td>\n",
       "      <td>...</td>\n",
       "      <td>...</td>\n",
       "      <td>...</td>\n",
       "      <td>...</td>\n",
       "      <td>...</td>\n",
       "      <td>...</td>\n",
       "      <td>...</td>\n",
       "      <td>...</td>\n",
       "      <td>...</td>\n",
       "    </tr>\n",
       "    <tr>\n",
       "      <th>PNBHOUSING.NS</th>\n",
       "      <td>NaN</td>\n",
       "      <td>NaN</td>\n",
       "      <td>NaN</td>\n",
       "      <td>NaN</td>\n",
       "      <td>NaN</td>\n",
       "      <td>NaN</td>\n",
       "      <td>NaN</td>\n",
       "      <td>NaN</td>\n",
       "      <td>NaN</td>\n",
       "      <td>NaN</td>\n",
       "      <td>...</td>\n",
       "      <td>1.0</td>\n",
       "      <td>0.78125</td>\n",
       "      <td>0.846154</td>\n",
       "      <td>0.952381</td>\n",
       "      <td>0.8</td>\n",
       "      <td>0.869565</td>\n",
       "      <td>0.666667</td>\n",
       "      <td>0.6875</td>\n",
       "      <td>0.88</td>\n",
       "      <td>0.77193</td>\n",
       "    </tr>\n",
       "    <tr>\n",
       "      <th>NIACL.NS</th>\n",
       "      <td>NaN</td>\n",
       "      <td>NaN</td>\n",
       "      <td>NaN</td>\n",
       "      <td>NaN</td>\n",
       "      <td>NaN</td>\n",
       "      <td>NaN</td>\n",
       "      <td>NaN</td>\n",
       "      <td>NaN</td>\n",
       "      <td>NaN</td>\n",
       "      <td>NaN</td>\n",
       "      <td>...</td>\n",
       "      <td>0.923077</td>\n",
       "      <td>0.827586</td>\n",
       "      <td>0.820513</td>\n",
       "      <td>0.806452</td>\n",
       "      <td>0.961538</td>\n",
       "      <td>0.877193</td>\n",
       "      <td>0.589744</td>\n",
       "      <td>0.678571</td>\n",
       "      <td>0.730769</td>\n",
       "      <td>0.703704</td>\n",
       "    </tr>\n",
       "    <tr>\n",
       "      <th>ARIHANT.NS</th>\n",
       "      <td>NaN</td>\n",
       "      <td>NaN</td>\n",
       "      <td>NaN</td>\n",
       "      <td>NaN</td>\n",
       "      <td>NaN</td>\n",
       "      <td>NaN</td>\n",
       "      <td>NaN</td>\n",
       "      <td>NaN</td>\n",
       "      <td>NaN</td>\n",
       "      <td>NaN</td>\n",
       "      <td>...</td>\n",
       "      <td>0.714286</td>\n",
       "      <td>0.47619</td>\n",
       "      <td>0.269231</td>\n",
       "      <td>0.269231</td>\n",
       "      <td>1.0</td>\n",
       "      <td>0.424242</td>\n",
       "      <td>0.500000</td>\n",
       "      <td>0.285714</td>\n",
       "      <td>0.571429</td>\n",
       "      <td>0.380952</td>\n",
       "    </tr>\n",
       "    <tr>\n",
       "      <th>EMIL.NS</th>\n",
       "      <td>NaN</td>\n",
       "      <td>NaN</td>\n",
       "      <td>NaN</td>\n",
       "      <td>NaN</td>\n",
       "      <td>NaN</td>\n",
       "      <td>NaN</td>\n",
       "      <td>NaN</td>\n",
       "      <td>NaN</td>\n",
       "      <td>NaN</td>\n",
       "      <td>NaN</td>\n",
       "      <td>...</td>\n",
       "      <td>0.727273</td>\n",
       "      <td>0.8</td>\n",
       "      <td>0.837838</td>\n",
       "      <td>0.833333</td>\n",
       "      <td>0.909091</td>\n",
       "      <td>0.869565</td>\n",
       "      <td>0.594595</td>\n",
       "      <td>0.606061</td>\n",
       "      <td>0.909091</td>\n",
       "      <td>0.727273</td>\n",
       "    </tr>\n",
       "    <tr>\n",
       "      <th>VCL.NS</th>\n",
       "      <td>NaN</td>\n",
       "      <td>NaN</td>\n",
       "      <td>NaN</td>\n",
       "      <td>NaN</td>\n",
       "      <td>NaN</td>\n",
       "      <td>NaN</td>\n",
       "      <td>NaN</td>\n",
       "      <td>NaN</td>\n",
       "      <td>NaN</td>\n",
       "      <td>NaN</td>\n",
       "      <td>...</td>\n",
       "      <td>5y  svm_acc        0.606475\n",
       "    svm_prec      ...</td>\n",
       "      <td>5y  svm_acc        0.445261\n",
       "    svm_prec      ...</td>\n",
       "      <td>0.820513</td>\n",
       "      <td>0.727273</td>\n",
       "      <td>0.941176</td>\n",
       "      <td>0.820513</td>\n",
       "      <td>0.897436</td>\n",
       "      <td>0.842105</td>\n",
       "      <td>0.941176</td>\n",
       "      <td>0.888889</td>\n",
       "    </tr>\n",
       "  </tbody>\n",
       "</table>\n",
       "<p>1619 rows × 72 columns</p>\n",
       "</div>"
      ],
      "text/plain": [
       "                     5y                                                     \\\n",
       "                svm_acc                                           svm_prec   \n",
       "ticker                                                                       \n",
       "21STCENMGM.NS  0.426396                                           0.426396   \n",
       "63MOONS.NS     0.461929  5y  svm_acc        0.587724\n",
       "    svm_prec      ...   \n",
       "3PLAND.NS      0.479592  5y  svm_acc        0.609090\n",
       "    svm_prec      ...   \n",
       "A2ZINFRA.NS    0.568528  5y  svm_acc        0.453227\n",
       "    svm_prec      ...   \n",
       "20MICRONS.NS   0.502538                                           0.502538   \n",
       "...                 ...                                                ...   \n",
       "PNBHOUSING.NS       NaN                                                NaN   \n",
       "NIACL.NS            NaN                                                NaN   \n",
       "ARIHANT.NS          NaN                                                NaN   \n",
       "EMIL.NS             NaN                                                NaN   \n",
       "VCL.NS              NaN                                                NaN   \n",
       "\n",
       "                                                                  \\\n",
       "                                                      svm_recall   \n",
       "ticker                                                             \n",
       "21STCENMGM.NS                                                1.0   \n",
       "63MOONS.NS     5y  svm_acc        0.604066\n",
       "    svm_prec      ...   \n",
       "3PLAND.NS      5y  svm_acc        0.619405\n",
       "    svm_prec      ...   \n",
       "A2ZINFRA.NS    5y  svm_acc        0.476530\n",
       "    svm_prec      ...   \n",
       "20MICRONS.NS                                                 1.0   \n",
       "...                                                          ...   \n",
       "PNBHOUSING.NS                                                NaN   \n",
       "NIACL.NS                                                     NaN   \n",
       "ARIHANT.NS                                                   NaN   \n",
       "EMIL.NS                                                      NaN   \n",
       "VCL.NS                                                       NaN   \n",
       "\n",
       "                                                                            \\\n",
       "                                                          svm_f1   knn_acc   \n",
       "ticker                                                                       \n",
       "21STCENMGM.NS                                           0.597865  0.837563   \n",
       "63MOONS.NS     5y  svm_acc        0.586299\n",
       "    svm_prec      ...  0.776650   \n",
       "3PLAND.NS      5y  svm_acc        0.576496\n",
       "    svm_prec      ...  0.790816   \n",
       "A2ZINFRA.NS    5y  svm_acc        0.512131\n",
       "    svm_prec      ...  0.802030   \n",
       "20MICRONS.NS                                            0.668919  0.807107   \n",
       "...                                                          ...       ...   \n",
       "PNBHOUSING.NS                                                NaN       NaN   \n",
       "NIACL.NS                                                     NaN       NaN   \n",
       "ARIHANT.NS                                                   NaN       NaN   \n",
       "EMIL.NS                                                      NaN       NaN   \n",
       "VCL.NS                                                       NaN       NaN   \n",
       "\n",
       "                                                                  ...  \\\n",
       "               knn_prec knn_recall    knn_f1    rf_acc   rf_prec  ...   \n",
       "ticker                                                            ...   \n",
       "21STCENMGM.NS  0.933333   0.666667  0.777778  0.913706  0.985507  ...   \n",
       "63MOONS.NS     0.942857   0.622642      0.75  0.862944  0.869159  ...   \n",
       "3PLAND.NS      0.850575    0.72549  0.783069  0.806122  0.847826  ...   \n",
       "A2ZINFRA.NS    0.942308   0.576471  0.715328  0.878173  0.969231  ...   \n",
       "20MICRONS.NS   0.769912   0.878788  0.820755  0.827411  0.815534  ...   \n",
       "...                 ...        ...       ...       ...       ...  ...   \n",
       "PNBHOUSING.NS       NaN        NaN       NaN       NaN       NaN  ...   \n",
       "NIACL.NS            NaN        NaN       NaN       NaN       NaN  ...   \n",
       "ARIHANT.NS          NaN        NaN       NaN       NaN       NaN  ...   \n",
       "EMIL.NS             NaN        NaN       NaN       NaN       NaN  ...   \n",
       "VCL.NS              NaN        NaN       NaN       NaN       NaN  ...   \n",
       "\n",
       "                                                              1y  \\\n",
       "                                                       gb_recall   \n",
       "ticker                                                             \n",
       "21STCENMGM.NS  5y  svm_acc        0.530920\n",
       "    svm_prec      ...   \n",
       "63MOONS.NS                                                   1.0   \n",
       "3PLAND.NS      5y  svm_acc        0.547970\n",
       "    svm_prec      ...   \n",
       "A2ZINFRA.NS    5y  svm_acc        0.496906\n",
       "    svm_prec      ...   \n",
       "20MICRONS.NS   5y  svm_acc        0.562724\n",
       "    svm_prec      ...   \n",
       "...                                                          ...   \n",
       "PNBHOUSING.NS                                                1.0   \n",
       "NIACL.NS                                                0.923077   \n",
       "ARIHANT.NS                                              0.714286   \n",
       "EMIL.NS                                                 0.727273   \n",
       "VCL.NS         5y  svm_acc        0.606475\n",
       "    svm_prec      ...   \n",
       "\n",
       "                                                                            \\\n",
       "                                                           gb_f1   xgb_acc   \n",
       "ticker                                                                       \n",
       "21STCENMGM.NS  5y  svm_acc        0.614525\n",
       "    svm_prec      ...  0.923077   \n",
       "63MOONS.NS                                              0.581818  0.923077   \n",
       "3PLAND.NS      5y  svm_acc        0.559408\n",
       "    svm_prec      ...  0.794872   \n",
       "A2ZINFRA.NS    5y  svm_acc        0.522581\n",
       "    svm_prec      ...  0.871795   \n",
       "20MICRONS.NS   5y  svm_acc        0.460741\n",
       "    svm_prec      ...  0.897436   \n",
       "...                                                          ...       ...   \n",
       "PNBHOUSING.NS                                            0.78125  0.846154   \n",
       "NIACL.NS                                                0.827586  0.820513   \n",
       "ARIHANT.NS                                               0.47619  0.269231   \n",
       "EMIL.NS                                                      0.8  0.837838   \n",
       "VCL.NS         5y  svm_acc        0.445261\n",
       "    svm_prec      ...  0.820513   \n",
       "\n",
       "                                                                              \\\n",
       "               xgb_prec xgb_recall    xgb_f1  lstm_acc lstm_prec lstm_recall   \n",
       "ticker                                                                         \n",
       "21STCENMGM.NS  0.833333        1.0  0.909091  0.794872  0.684211    0.866667   \n",
       "63MOONS.NS     0.882353     0.9375  0.909091  0.897436       0.8         1.0   \n",
       "3PLAND.NS      0.810811   0.967742  0.882353  0.794872  0.870968    0.870968   \n",
       "A2ZINFRA.NS    0.913043      0.875  0.893617  0.615385      0.68    0.708333   \n",
       "20MICRONS.NS       0.92       0.92      0.92  0.666667  0.657895         1.0   \n",
       "...                 ...        ...       ...       ...       ...         ...   \n",
       "PNBHOUSING.NS  0.952381        0.8  0.869565  0.666667    0.6875        0.88   \n",
       "NIACL.NS       0.806452   0.961538  0.877193  0.589744  0.678571    0.730769   \n",
       "ARIHANT.NS     0.269231        1.0  0.424242  0.500000  0.285714    0.571429   \n",
       "EMIL.NS        0.833333   0.909091  0.869565  0.594595  0.606061    0.909091   \n",
       "VCL.NS         0.727273   0.941176  0.820513  0.897436  0.842105    0.941176   \n",
       "\n",
       "                         \n",
       "                lstm_f1  \n",
       "ticker                   \n",
       "21STCENMGM.NS  0.764706  \n",
       "63MOONS.NS     0.888889  \n",
       "3PLAND.NS      0.870968  \n",
       "A2ZINFRA.NS    0.693878  \n",
       "20MICRONS.NS   0.793651  \n",
       "...                 ...  \n",
       "PNBHOUSING.NS   0.77193  \n",
       "NIACL.NS       0.703704  \n",
       "ARIHANT.NS     0.380952  \n",
       "EMIL.NS        0.727273  \n",
       "VCL.NS         0.888889  \n",
       "\n",
       "[1619 rows x 72 columns]"
      ]
     },
     "execution_count": 10,
     "metadata": {},
     "output_type": "execute_result"
    }
   ],
   "source": [
    "scores"
   ]
  },
  {
   "cell_type": "code",
   "execution_count": 6,
   "id": "24d52983f6b9cc9f",
   "metadata": {
    "collapsed": false,
    "ExecuteTime": {
     "end_time": "2023-10-04T04:54:06.873518900Z",
     "start_time": "2023-10-04T04:54:06.836589200Z"
    }
   },
   "outputs": [],
   "source": [
    "scores.dropna(inplace=True)"
   ]
  },
  {
   "cell_type": "code",
   "execution_count": 7,
   "id": "6b38c08c25f9a98b",
   "metadata": {
    "collapsed": false,
    "ExecuteTime": {
     "end_time": "2023-10-04T04:54:07.614795200Z",
     "start_time": "2023-10-04T04:54:07.565261100Z"
    }
   },
   "outputs": [
    {
     "data": {
      "text/plain": "(1546, 72)"
     },
     "execution_count": 7,
     "metadata": {},
     "output_type": "execute_result"
    }
   ],
   "source": [
    "scores.shape"
   ]
  },
  {
   "cell_type": "code",
   "execution_count": 8,
   "id": "199ca7e04af7e5f3",
   "metadata": {
    "collapsed": false,
    "ExecuteTime": {
     "end_time": "2023-10-04T04:54:13.347346200Z",
     "start_time": "2023-10-04T04:54:13.308666300Z"
    }
   },
   "outputs": [
    {
     "data": {
      "text/plain": "                     5y                                                     \\\n                svm_acc  svm_prec svm_recall    svm_f1   knn_acc  knn_prec   \nticker                                                                       \n21STCENMGM.NS  0.426396  0.426396        1.0  0.597865  0.837563  0.933333   \n63MOONS.NS     0.461929  0.000000        0.0  0.000000  0.776650  0.942857   \n3PLAND.NS      0.479592  0.000000        0.0  0.000000  0.790816  0.850575   \nA2ZINFRA.NS    0.568528  0.000000        0.0  0.000000  0.802030  0.942308   \n20MICRONS.NS   0.502538  0.502538        1.0  0.668919  0.807107  0.769912   \n...                 ...       ...        ...       ...       ...       ...   \nZYDUSWELL.NS   0.527919  0.000000        0.0  0.000000  0.741117  0.714286   \nZENITHEXPO.NS  0.517766  0.000000        0.0  0.000000  0.802030  0.833333   \nZENTEC.NS      0.350254  0.000000        0.0  0.000000  0.781726  0.789116   \nZENSARTECH.NS  0.345178  0.000000        0.0  0.000000  0.817259  0.849624   \nZOTA.NS        0.510204  0.000000        0.0  0.000000  0.836735  0.880952   \n\n                                                        ...        1y  \\\n              knn_recall    knn_f1    rf_acc   rf_prec  ... gb_recall   \nticker                                                  ...             \n21STCENMGM.NS   0.666667  0.777778  0.913706  0.985507  ...  0.000000   \n63MOONS.NS      0.622642  0.750000  0.862944  0.869159  ...  1.000000   \n3PLAND.NS       0.725490  0.783069  0.806122  0.847826  ...  0.000000   \nA2ZINFRA.NS     0.576471  0.715328  0.878173  0.969231  ...  0.000000   \n20MICRONS.NS    0.878788  0.820755  0.827411  0.815534  ...  0.000000   \n...                  ...       ...       ...       ...  ...       ...   \nZYDUSWELL.NS    0.752688  0.732984  0.812183  0.833333  ...  0.000000   \nZENITHEXPO.NS   0.736842  0.782123  0.791878  0.770000  ...  0.052632   \nZENTEC.NS       0.906250  0.843636  0.837563  0.842857  ...  1.000000   \nZENSARTECH.NS   0.875969  0.862595  0.857868  0.897638  ...  1.000000   \nZOTA.NS         0.770833  0.822222  0.872449  0.851485  ...  0.923077   \n\n                                                                            \\\n                  gb_f1   xgb_acc  xgb_prec xgb_recall    xgb_f1  lstm_acc   \nticker                                                                       \n21STCENMGM.NS  0.000000  0.923077  0.833333   1.000000  0.909091  0.794872   \n63MOONS.NS     0.581818  0.923077  0.882353   0.937500  0.909091  0.897436   \n3PLAND.NS      0.000000  0.794872  0.810811   0.967742  0.882353  0.794872   \nA2ZINFRA.NS    0.000000  0.871795  0.913043   0.875000  0.893617  0.615385   \n20MICRONS.NS   0.000000  0.897436  0.920000   0.920000  0.920000  0.666667   \n...                 ...       ...       ...        ...       ...       ...   \nZYDUSWELL.NS   0.000000  0.717949  0.703704   0.863636  0.775510  0.487179   \nZENITHEXPO.NS  0.100000  0.820513  0.833333   0.789474  0.810811  0.589744   \nZENTEC.NS      0.677966  0.871795  0.941176   0.800000  0.864865  0.512821   \nZENSARTECH.NS  0.761905  0.846154  0.821429   0.958333  0.884615  0.589744   \nZOTA.NS        0.585366  0.846154  0.818182   0.692308  0.750000  0.384615   \n\n                                               \n              lstm_prec lstm_recall   lstm_f1  \nticker                                         \n21STCENMGM.NS  0.684211    0.866667  0.764706  \n63MOONS.NS     0.800000    1.000000  0.888889  \n3PLAND.NS      0.870968    0.870968  0.870968  \nA2ZINFRA.NS    0.680000    0.708333  0.693878  \n20MICRONS.NS   0.657895    1.000000  0.793651  \n...                 ...         ...       ...  \nZYDUSWELL.NS   0.600000    0.272727  0.375000  \nZENITHEXPO.NS  0.571429    0.631579  0.600000  \nZENTEC.NS      0.512821    1.000000  0.677966  \nZENSARTECH.NS  0.605263    0.958333  0.741935  \nZOTA.NS        0.342857    0.923077  0.500000  \n\n[1546 rows x 72 columns]",
      "text/html": "<div>\n<style scoped>\n    .dataframe tbody tr th:only-of-type {\n        vertical-align: middle;\n    }\n\n    .dataframe tbody tr th {\n        vertical-align: top;\n    }\n\n    .dataframe thead tr th {\n        text-align: left;\n    }\n\n    .dataframe thead tr:last-of-type th {\n        text-align: right;\n    }\n</style>\n<table border=\"1\" class=\"dataframe\">\n  <thead>\n    <tr>\n      <th></th>\n      <th colspan=\"10\" halign=\"left\">5y</th>\n      <th>...</th>\n      <th colspan=\"10\" halign=\"left\">1y</th>\n    </tr>\n    <tr>\n      <th></th>\n      <th>svm_acc</th>\n      <th>svm_prec</th>\n      <th>svm_recall</th>\n      <th>svm_f1</th>\n      <th>knn_acc</th>\n      <th>knn_prec</th>\n      <th>knn_recall</th>\n      <th>knn_f1</th>\n      <th>rf_acc</th>\n      <th>rf_prec</th>\n      <th>...</th>\n      <th>gb_recall</th>\n      <th>gb_f1</th>\n      <th>xgb_acc</th>\n      <th>xgb_prec</th>\n      <th>xgb_recall</th>\n      <th>xgb_f1</th>\n      <th>lstm_acc</th>\n      <th>lstm_prec</th>\n      <th>lstm_recall</th>\n      <th>lstm_f1</th>\n    </tr>\n    <tr>\n      <th>ticker</th>\n      <th></th>\n      <th></th>\n      <th></th>\n      <th></th>\n      <th></th>\n      <th></th>\n      <th></th>\n      <th></th>\n      <th></th>\n      <th></th>\n      <th></th>\n      <th></th>\n      <th></th>\n      <th></th>\n      <th></th>\n      <th></th>\n      <th></th>\n      <th></th>\n      <th></th>\n      <th></th>\n      <th></th>\n    </tr>\n  </thead>\n  <tbody>\n    <tr>\n      <th>21STCENMGM.NS</th>\n      <td>0.426396</td>\n      <td>0.426396</td>\n      <td>1.0</td>\n      <td>0.597865</td>\n      <td>0.837563</td>\n      <td>0.933333</td>\n      <td>0.666667</td>\n      <td>0.777778</td>\n      <td>0.913706</td>\n      <td>0.985507</td>\n      <td>...</td>\n      <td>0.000000</td>\n      <td>0.000000</td>\n      <td>0.923077</td>\n      <td>0.833333</td>\n      <td>1.000000</td>\n      <td>0.909091</td>\n      <td>0.794872</td>\n      <td>0.684211</td>\n      <td>0.866667</td>\n      <td>0.764706</td>\n    </tr>\n    <tr>\n      <th>63MOONS.NS</th>\n      <td>0.461929</td>\n      <td>0.000000</td>\n      <td>0.0</td>\n      <td>0.000000</td>\n      <td>0.776650</td>\n      <td>0.942857</td>\n      <td>0.622642</td>\n      <td>0.750000</td>\n      <td>0.862944</td>\n      <td>0.869159</td>\n      <td>...</td>\n      <td>1.000000</td>\n      <td>0.581818</td>\n      <td>0.923077</td>\n      <td>0.882353</td>\n      <td>0.937500</td>\n      <td>0.909091</td>\n      <td>0.897436</td>\n      <td>0.800000</td>\n      <td>1.000000</td>\n      <td>0.888889</td>\n    </tr>\n    <tr>\n      <th>3PLAND.NS</th>\n      <td>0.479592</td>\n      <td>0.000000</td>\n      <td>0.0</td>\n      <td>0.000000</td>\n      <td>0.790816</td>\n      <td>0.850575</td>\n      <td>0.725490</td>\n      <td>0.783069</td>\n      <td>0.806122</td>\n      <td>0.847826</td>\n      <td>...</td>\n      <td>0.000000</td>\n      <td>0.000000</td>\n      <td>0.794872</td>\n      <td>0.810811</td>\n      <td>0.967742</td>\n      <td>0.882353</td>\n      <td>0.794872</td>\n      <td>0.870968</td>\n      <td>0.870968</td>\n      <td>0.870968</td>\n    </tr>\n    <tr>\n      <th>A2ZINFRA.NS</th>\n      <td>0.568528</td>\n      <td>0.000000</td>\n      <td>0.0</td>\n      <td>0.000000</td>\n      <td>0.802030</td>\n      <td>0.942308</td>\n      <td>0.576471</td>\n      <td>0.715328</td>\n      <td>0.878173</td>\n      <td>0.969231</td>\n      <td>...</td>\n      <td>0.000000</td>\n      <td>0.000000</td>\n      <td>0.871795</td>\n      <td>0.913043</td>\n      <td>0.875000</td>\n      <td>0.893617</td>\n      <td>0.615385</td>\n      <td>0.680000</td>\n      <td>0.708333</td>\n      <td>0.693878</td>\n    </tr>\n    <tr>\n      <th>20MICRONS.NS</th>\n      <td>0.502538</td>\n      <td>0.502538</td>\n      <td>1.0</td>\n      <td>0.668919</td>\n      <td>0.807107</td>\n      <td>0.769912</td>\n      <td>0.878788</td>\n      <td>0.820755</td>\n      <td>0.827411</td>\n      <td>0.815534</td>\n      <td>...</td>\n      <td>0.000000</td>\n      <td>0.000000</td>\n      <td>0.897436</td>\n      <td>0.920000</td>\n      <td>0.920000</td>\n      <td>0.920000</td>\n      <td>0.666667</td>\n      <td>0.657895</td>\n      <td>1.000000</td>\n      <td>0.793651</td>\n    </tr>\n    <tr>\n      <th>...</th>\n      <td>...</td>\n      <td>...</td>\n      <td>...</td>\n      <td>...</td>\n      <td>...</td>\n      <td>...</td>\n      <td>...</td>\n      <td>...</td>\n      <td>...</td>\n      <td>...</td>\n      <td>...</td>\n      <td>...</td>\n      <td>...</td>\n      <td>...</td>\n      <td>...</td>\n      <td>...</td>\n      <td>...</td>\n      <td>...</td>\n      <td>...</td>\n      <td>...</td>\n      <td>...</td>\n    </tr>\n    <tr>\n      <th>ZYDUSWELL.NS</th>\n      <td>0.527919</td>\n      <td>0.000000</td>\n      <td>0.0</td>\n      <td>0.000000</td>\n      <td>0.741117</td>\n      <td>0.714286</td>\n      <td>0.752688</td>\n      <td>0.732984</td>\n      <td>0.812183</td>\n      <td>0.833333</td>\n      <td>...</td>\n      <td>0.000000</td>\n      <td>0.000000</td>\n      <td>0.717949</td>\n      <td>0.703704</td>\n      <td>0.863636</td>\n      <td>0.775510</td>\n      <td>0.487179</td>\n      <td>0.600000</td>\n      <td>0.272727</td>\n      <td>0.375000</td>\n    </tr>\n    <tr>\n      <th>ZENITHEXPO.NS</th>\n      <td>0.517766</td>\n      <td>0.000000</td>\n      <td>0.0</td>\n      <td>0.000000</td>\n      <td>0.802030</td>\n      <td>0.833333</td>\n      <td>0.736842</td>\n      <td>0.782123</td>\n      <td>0.791878</td>\n      <td>0.770000</td>\n      <td>...</td>\n      <td>0.052632</td>\n      <td>0.100000</td>\n      <td>0.820513</td>\n      <td>0.833333</td>\n      <td>0.789474</td>\n      <td>0.810811</td>\n      <td>0.589744</td>\n      <td>0.571429</td>\n      <td>0.631579</td>\n      <td>0.600000</td>\n    </tr>\n    <tr>\n      <th>ZENTEC.NS</th>\n      <td>0.350254</td>\n      <td>0.000000</td>\n      <td>0.0</td>\n      <td>0.000000</td>\n      <td>0.781726</td>\n      <td>0.789116</td>\n      <td>0.906250</td>\n      <td>0.843636</td>\n      <td>0.837563</td>\n      <td>0.842857</td>\n      <td>...</td>\n      <td>1.000000</td>\n      <td>0.677966</td>\n      <td>0.871795</td>\n      <td>0.941176</td>\n      <td>0.800000</td>\n      <td>0.864865</td>\n      <td>0.512821</td>\n      <td>0.512821</td>\n      <td>1.000000</td>\n      <td>0.677966</td>\n    </tr>\n    <tr>\n      <th>ZENSARTECH.NS</th>\n      <td>0.345178</td>\n      <td>0.000000</td>\n      <td>0.0</td>\n      <td>0.000000</td>\n      <td>0.817259</td>\n      <td>0.849624</td>\n      <td>0.875969</td>\n      <td>0.862595</td>\n      <td>0.857868</td>\n      <td>0.897638</td>\n      <td>...</td>\n      <td>1.000000</td>\n      <td>0.761905</td>\n      <td>0.846154</td>\n      <td>0.821429</td>\n      <td>0.958333</td>\n      <td>0.884615</td>\n      <td>0.589744</td>\n      <td>0.605263</td>\n      <td>0.958333</td>\n      <td>0.741935</td>\n    </tr>\n    <tr>\n      <th>ZOTA.NS</th>\n      <td>0.510204</td>\n      <td>0.000000</td>\n      <td>0.0</td>\n      <td>0.000000</td>\n      <td>0.836735</td>\n      <td>0.880952</td>\n      <td>0.770833</td>\n      <td>0.822222</td>\n      <td>0.872449</td>\n      <td>0.851485</td>\n      <td>...</td>\n      <td>0.923077</td>\n      <td>0.585366</td>\n      <td>0.846154</td>\n      <td>0.818182</td>\n      <td>0.692308</td>\n      <td>0.750000</td>\n      <td>0.384615</td>\n      <td>0.342857</td>\n      <td>0.923077</td>\n      <td>0.500000</td>\n    </tr>\n  </tbody>\n</table>\n<p>1546 rows × 72 columns</p>\n</div>"
     },
     "execution_count": 8,
     "metadata": {},
     "output_type": "execute_result"
    }
   ],
   "source": [
    "scores"
   ]
  },
  {
   "cell_type": "code",
   "execution_count": 9,
   "id": "a1af716571ea039e",
   "metadata": {
    "collapsed": false,
    "ExecuteTime": {
     "end_time": "2023-10-04T04:55:02.688417500Z",
     "start_time": "2023-10-04T04:55:02.640421600Z"
    }
   },
   "outputs": [],
   "source": [
    "pd.to_pickle(scores,\"./scores_untouched.pkl\")"
   ]
  },
  {
   "cell_type": "code",
   "execution_count": 15,
   "id": "5e81300efa3a2f21",
   "metadata": {
    "collapsed": false
   },
   "outputs": [
    {
     "ename": "AttributeError",
     "evalue": "module 'pandas' has no attribute 'to_csv'",
     "output_type": "error",
     "traceback": [
      "\u001B[1;31m---------------------------------------------------------------------------\u001B[0m",
      "\u001B[1;31mAttributeError\u001B[0m                            Traceback (most recent call last)",
      "\u001B[1;32mc:\\Users\\Bhavya\\Projects\\Python Projects\\Macro Project\\scores.ipynb Cell 15\u001B[0m line \u001B[0;36m1\n\u001B[1;32m----> <a href='vscode-notebook-cell:/c%3A/Users/Bhavya/Projects/Python%20Projects/Macro%20Project/scores.ipynb#X20sZmlsZQ%3D%3D?line=0'>1</a>\u001B[0m pd\u001B[39m.\u001B[39;49mto_csv(scores,\u001B[39m\"\u001B[39m\u001B[39m./scores.csv\u001B[39m\u001B[39m\"\u001B[39m)\n",
      "File \u001B[1;32mc:\\Users\\Bhavya\\.conda\\envs\\Fuck_Around\\lib\\site-packages\\pandas\\__init__.py:264\u001B[0m, in \u001B[0;36m__getattr__\u001B[1;34m(name)\u001B[0m\n\u001B[0;32m    260\u001B[0m     \u001B[39mfrom\u001B[39;00m \u001B[39mpandas\u001B[39;00m\u001B[39m.\u001B[39;00m\u001B[39mcore\u001B[39;00m\u001B[39m.\u001B[39;00m\u001B[39marrays\u001B[39;00m\u001B[39m.\u001B[39;00m\u001B[39msparse\u001B[39;00m \u001B[39mimport\u001B[39;00m SparseArray \u001B[39mas\u001B[39;00m _SparseArray\n\u001B[0;32m    262\u001B[0m     \u001B[39mreturn\u001B[39;00m _SparseArray\n\u001B[1;32m--> 264\u001B[0m \u001B[39mraise\u001B[39;00m \u001B[39mAttributeError\u001B[39;00m(\u001B[39mf\u001B[39m\u001B[39m\"\u001B[39m\u001B[39mmodule \u001B[39m\u001B[39m'\u001B[39m\u001B[39mpandas\u001B[39m\u001B[39m'\u001B[39m\u001B[39m has no attribute \u001B[39m\u001B[39m'\u001B[39m\u001B[39m{\u001B[39;00mname\u001B[39m}\u001B[39;00m\u001B[39m'\u001B[39m\u001B[39m\"\u001B[39m)\n",
      "\u001B[1;31mAttributeError\u001B[0m: module 'pandas' has no attribute 'to_csv'"
     ]
    }
   ],
   "source": [
    "pd.to_csv(scores,\"./scores.csv\")"
   ]
  },
  {
   "cell_type": "code",
   "execution_count": 10,
   "id": "49c9c1ef",
   "metadata": {
    "ExecuteTime": {
     "end_time": "2023-10-04T04:55:38.959011500Z",
     "start_time": "2023-10-04T04:55:38.848342600Z"
    }
   },
   "outputs": [
    {
     "data": {
      "text/plain": "5y  svm_acc        0.522212\n    svm_prec       0.287271\n    svm_recall     0.547063\n    svm_f1         0.370780\n    knn_acc        0.796387\n                     ...   \n1y  xgb_f1         0.846913\n    lstm_acc       0.674562\n    lstm_prec      0.704511\n    lstm_recall    0.685759\n    lstm_f1        0.659858\nLength: 72, dtype: float64"
     },
     "execution_count": 10,
     "metadata": {},
     "output_type": "execute_result"
    }
   ],
   "source": [
    "scores.mean()"
   ]
  },
  {
   "cell_type": "code",
   "execution_count": null,
   "outputs": [],
   "source": [],
   "metadata": {
    "collapsed": false
   },
   "id": "bc497d92c163d193"
  }
 ],
 "metadata": {
  "kernelspec": {
   "display_name": "Python 3",
   "language": "python",
   "name": "python3"
  },
  "language_info": {
   "codemirror_mode": {
    "name": "ipython",
    "version": 3
   },
   "file_extension": ".py",
   "mimetype": "text/x-python",
   "name": "python",
   "nbconvert_exporter": "python",
   "pygments_lexer": "ipython3",
   "version": "3.10.11"
  }
 },
 "nbformat": 4,
 "nbformat_minor": 5
}
