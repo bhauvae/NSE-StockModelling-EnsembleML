{
 "cells": [
  {
   "cell_type": "code",
   "execution_count": 14,
   "outputs": [],
   "source": [
    "from sklearn.ensemble import GradientBoostingClassifier\n",
    "from sklearn.ensemble import RandomForestClassifier\n",
    "from sklearn.neighbors import KNeighborsClassifier\n",
    "from sklearn import metrics\n",
    "from sklearn.preprocessing import StandardScaler\n",
    "from sklearn.svm import SVC\n",
    "from keras import layers\n",
    "from keras.models import Sequential\n",
    "from keras.optimizers import Adam\n",
    "from sklearn.pipeline import Pipeline\n",
    "\n",
    "import talib as tb\n",
    "import pandas as pd\n",
    "import numpy as np\n",
    "import xgboost as xgb\n",
    "import matplotlib.pyplot as plt\n",
    "import yfinance as yf\n"
   ],
   "metadata": {
    "collapsed": false,
    "ExecuteTime": {
     "end_time": "2023-09-26T16:31:16.756196700Z",
     "start_time": "2023-09-26T16:31:16.736343900Z"
    }
   },
   "id": "30b1c8fad2bec736"
  },
  {
   "cell_type": "code",
   "execution_count": 20,
   "outputs": [
    {
     "name": "stdout",
     "output_type": "stream",
     "text": [
      "[*********************100%%**********************]  1 of 1 completed\n"
     ]
    },
    {
     "data": {
      "text/plain": "                  Open        High         Low       Close   Adj Close  \\\nDate                                                                     \n2022-09-22  152.380005  154.470001  150.910004  152.740005  151.839233   \n2022-09-23  151.190002  151.470001  148.559998  150.429993  149.542847   \n2022-09-26  149.660004  153.770004  149.639999  150.770004  149.880859   \n2022-09-27  152.740005  154.720001  149.949997  151.759995  150.865021   \n2022-09-28  147.639999  150.639999  144.839996  149.839996  148.956314   \n...                ...         ...         ...         ...         ...   \n2023-09-20  179.259995  179.699997  175.399994  175.490005  175.490005   \n2023-09-21  174.550003  176.300003  173.860001  173.929993  173.929993   \n2023-09-22  174.669998  177.080002  174.050003  174.789993  174.789993   \n2023-09-25  174.199997  176.970001  174.149994  176.080002  176.080002   \n2023-09-26  174.820007  175.054993  172.414993  173.128998  173.128998   \n\n               Volume          ma         ema        dema        kama  ...  \\\nDate                                                                   ...   \n2022-09-22   86652500  153.707999  154.881904  153.315272  157.451960  ...   \n2022-09-23   96029900  153.653998  154.072466  151.576007  157.409949  ...   \n2022-09-26   93339400  152.912000  153.472018  150.864561  156.785975  ...   \n2022-09-27   84442700  151.884000  153.160741  151.087851  155.716376  ...   \n2022-09-28  146691400  151.107999  152.556969  150.195108  154.671100  ...   \n...               ...         ...         ...         ...         ...  ...   \n2023-09-20   58436200  176.656003  177.782652  176.370569  178.675034  ...   \n2023-09-21   63047900  176.294000  177.082168  174.897503  178.530920  ...   \n2023-09-22   56663000  176.250000  176.665409  174.613084  178.508344  ...   \n2023-09-25   46119600  175.872000  176.558972  175.223003  178.411054  ...   \n2023-09-26   29250067  174.683798  175.935340  173.949854  177.506453  ...   \n\n            spinningtop  cdllongline  breakaway  hammer  doji  engulfing  \\\nDate                                                                       \n2022-09-22          100            0          0       0   100          0   \n2022-09-23            0            0          0     100     0          0   \n2022-09-26            0            0          0       0     0          0   \n2022-09-27         -100            0          0       0     0          0   \n2022-09-28            0            0          0       0     0          0   \n...                 ...          ...        ...     ...   ...        ...   \n2023-09-20            0         -100          0       0     0       -100   \n2023-09-21            0            0          0       0     0          0   \n2023-09-22          100            0          0       0   100          0   \n2023-09-25            0            0          0       0     0          0   \n2023-09-26            0            0          0       0     0          0   \n\n            morning_star  evening_star  trigrams    target  \nDate                                                        \n2022-09-22             0             0      -100 -0.002141  \n2022-09-23             0             0      -100 -0.008101  \n2022-09-26             0             0       100 -0.010786  \n2022-09-27             0             0       100  0.004083  \n2022-09-28             0             0      -100 -0.001882  \n...                  ...           ...       ...       ...  \n2023-09-20             0             0      -100 -0.009610  \n2023-09-21             0             0      -100 -0.002004  \n2023-09-22             0             0       100 -0.003533  \n2023-09-25             0             0       100 -0.001475  \n2023-09-26             0             0      -100  0.003174  \n\n[254 rows x 59 columns]",
      "text/html": "<div>\n<style scoped>\n    .dataframe tbody tr th:only-of-type {\n        vertical-align: middle;\n    }\n\n    .dataframe tbody tr th {\n        vertical-align: top;\n    }\n\n    .dataframe thead th {\n        text-align: right;\n    }\n</style>\n<table border=\"1\" class=\"dataframe\">\n  <thead>\n    <tr style=\"text-align: right;\">\n      <th></th>\n      <th>Open</th>\n      <th>High</th>\n      <th>Low</th>\n      <th>Close</th>\n      <th>Adj Close</th>\n      <th>Volume</th>\n      <th>ma</th>\n      <th>ema</th>\n      <th>dema</th>\n      <th>kama</th>\n      <th>...</th>\n      <th>spinningtop</th>\n      <th>cdllongline</th>\n      <th>breakaway</th>\n      <th>hammer</th>\n      <th>doji</th>\n      <th>engulfing</th>\n      <th>morning_star</th>\n      <th>evening_star</th>\n      <th>trigrams</th>\n      <th>target</th>\n    </tr>\n    <tr>\n      <th>Date</th>\n      <th></th>\n      <th></th>\n      <th></th>\n      <th></th>\n      <th></th>\n      <th></th>\n      <th></th>\n      <th></th>\n      <th></th>\n      <th></th>\n      <th></th>\n      <th></th>\n      <th></th>\n      <th></th>\n      <th></th>\n      <th></th>\n      <th></th>\n      <th></th>\n      <th></th>\n      <th></th>\n      <th></th>\n    </tr>\n  </thead>\n  <tbody>\n    <tr>\n      <th>2022-09-22</th>\n      <td>152.380005</td>\n      <td>154.470001</td>\n      <td>150.910004</td>\n      <td>152.740005</td>\n      <td>151.839233</td>\n      <td>86652500</td>\n      <td>153.707999</td>\n      <td>154.881904</td>\n      <td>153.315272</td>\n      <td>157.451960</td>\n      <td>...</td>\n      <td>100</td>\n      <td>0</td>\n      <td>0</td>\n      <td>0</td>\n      <td>100</td>\n      <td>0</td>\n      <td>0</td>\n      <td>0</td>\n      <td>-100</td>\n      <td>-0.002141</td>\n    </tr>\n    <tr>\n      <th>2022-09-23</th>\n      <td>151.190002</td>\n      <td>151.470001</td>\n      <td>148.559998</td>\n      <td>150.429993</td>\n      <td>149.542847</td>\n      <td>96029900</td>\n      <td>153.653998</td>\n      <td>154.072466</td>\n      <td>151.576007</td>\n      <td>157.409949</td>\n      <td>...</td>\n      <td>0</td>\n      <td>0</td>\n      <td>0</td>\n      <td>100</td>\n      <td>0</td>\n      <td>0</td>\n      <td>0</td>\n      <td>0</td>\n      <td>-100</td>\n      <td>-0.008101</td>\n    </tr>\n    <tr>\n      <th>2022-09-26</th>\n      <td>149.660004</td>\n      <td>153.770004</td>\n      <td>149.639999</td>\n      <td>150.770004</td>\n      <td>149.880859</td>\n      <td>93339400</td>\n      <td>152.912000</td>\n      <td>153.472018</td>\n      <td>150.864561</td>\n      <td>156.785975</td>\n      <td>...</td>\n      <td>0</td>\n      <td>0</td>\n      <td>0</td>\n      <td>0</td>\n      <td>0</td>\n      <td>0</td>\n      <td>0</td>\n      <td>0</td>\n      <td>100</td>\n      <td>-0.010786</td>\n    </tr>\n    <tr>\n      <th>2022-09-27</th>\n      <td>152.740005</td>\n      <td>154.720001</td>\n      <td>149.949997</td>\n      <td>151.759995</td>\n      <td>150.865021</td>\n      <td>84442700</td>\n      <td>151.884000</td>\n      <td>153.160741</td>\n      <td>151.087851</td>\n      <td>155.716376</td>\n      <td>...</td>\n      <td>-100</td>\n      <td>0</td>\n      <td>0</td>\n      <td>0</td>\n      <td>0</td>\n      <td>0</td>\n      <td>0</td>\n      <td>0</td>\n      <td>100</td>\n      <td>0.004083</td>\n    </tr>\n    <tr>\n      <th>2022-09-28</th>\n      <td>147.639999</td>\n      <td>150.639999</td>\n      <td>144.839996</td>\n      <td>149.839996</td>\n      <td>148.956314</td>\n      <td>146691400</td>\n      <td>151.107999</td>\n      <td>152.556969</td>\n      <td>150.195108</td>\n      <td>154.671100</td>\n      <td>...</td>\n      <td>0</td>\n      <td>0</td>\n      <td>0</td>\n      <td>0</td>\n      <td>0</td>\n      <td>0</td>\n      <td>0</td>\n      <td>0</td>\n      <td>-100</td>\n      <td>-0.001882</td>\n    </tr>\n    <tr>\n      <th>...</th>\n      <td>...</td>\n      <td>...</td>\n      <td>...</td>\n      <td>...</td>\n      <td>...</td>\n      <td>...</td>\n      <td>...</td>\n      <td>...</td>\n      <td>...</td>\n      <td>...</td>\n      <td>...</td>\n      <td>...</td>\n      <td>...</td>\n      <td>...</td>\n      <td>...</td>\n      <td>...</td>\n      <td>...</td>\n      <td>...</td>\n      <td>...</td>\n      <td>...</td>\n      <td>...</td>\n    </tr>\n    <tr>\n      <th>2023-09-20</th>\n      <td>179.259995</td>\n      <td>179.699997</td>\n      <td>175.399994</td>\n      <td>175.490005</td>\n      <td>175.490005</td>\n      <td>58436200</td>\n      <td>176.656003</td>\n      <td>177.782652</td>\n      <td>176.370569</td>\n      <td>178.675034</td>\n      <td>...</td>\n      <td>0</td>\n      <td>-100</td>\n      <td>0</td>\n      <td>0</td>\n      <td>0</td>\n      <td>-100</td>\n      <td>0</td>\n      <td>0</td>\n      <td>-100</td>\n      <td>-0.009610</td>\n    </tr>\n    <tr>\n      <th>2023-09-21</th>\n      <td>174.550003</td>\n      <td>176.300003</td>\n      <td>173.860001</td>\n      <td>173.929993</td>\n      <td>173.929993</td>\n      <td>63047900</td>\n      <td>176.294000</td>\n      <td>177.082168</td>\n      <td>174.897503</td>\n      <td>178.530920</td>\n      <td>...</td>\n      <td>0</td>\n      <td>0</td>\n      <td>0</td>\n      <td>0</td>\n      <td>0</td>\n      <td>0</td>\n      <td>0</td>\n      <td>0</td>\n      <td>-100</td>\n      <td>-0.002004</td>\n    </tr>\n    <tr>\n      <th>2023-09-22</th>\n      <td>174.669998</td>\n      <td>177.080002</td>\n      <td>174.050003</td>\n      <td>174.789993</td>\n      <td>174.789993</td>\n      <td>56663000</td>\n      <td>176.250000</td>\n      <td>176.665409</td>\n      <td>174.613084</td>\n      <td>178.508344</td>\n      <td>...</td>\n      <td>100</td>\n      <td>0</td>\n      <td>0</td>\n      <td>0</td>\n      <td>100</td>\n      <td>0</td>\n      <td>0</td>\n      <td>0</td>\n      <td>100</td>\n      <td>-0.003533</td>\n    </tr>\n    <tr>\n      <th>2023-09-25</th>\n      <td>174.199997</td>\n      <td>176.970001</td>\n      <td>174.149994</td>\n      <td>176.080002</td>\n      <td>176.080002</td>\n      <td>46119600</td>\n      <td>175.872000</td>\n      <td>176.558972</td>\n      <td>175.223003</td>\n      <td>178.411054</td>\n      <td>...</td>\n      <td>0</td>\n      <td>0</td>\n      <td>0</td>\n      <td>0</td>\n      <td>0</td>\n      <td>0</td>\n      <td>0</td>\n      <td>0</td>\n      <td>100</td>\n      <td>-0.001475</td>\n    </tr>\n    <tr>\n      <th>2023-09-26</th>\n      <td>174.820007</td>\n      <td>175.054993</td>\n      <td>172.414993</td>\n      <td>173.128998</td>\n      <td>173.128998</td>\n      <td>29250067</td>\n      <td>174.683798</td>\n      <td>175.935340</td>\n      <td>173.949854</td>\n      <td>177.506453</td>\n      <td>...</td>\n      <td>0</td>\n      <td>0</td>\n      <td>0</td>\n      <td>0</td>\n      <td>0</td>\n      <td>0</td>\n      <td>0</td>\n      <td>0</td>\n      <td>-100</td>\n      <td>0.003174</td>\n    </tr>\n  </tbody>\n</table>\n<p>254 rows × 59 columns</p>\n</div>"
     },
     "execution_count": 20,
     "metadata": {},
     "output_type": "execute_result"
    }
   ],
   "source": [
    "def format_data(df, avg_days=5):\n",
    "    \n",
    "    short_ind = 5\n",
    "    long_ind = 10\n",
    "    extra_long_ind = 50\n",
    "    super_long_ind = 250\n",
    "    \n",
    "    # OVERLAP INDICATORS\n",
    "    df[\"ma\"] = tb.MA(df[\"Close\"], timeperiod=short_ind)\n",
    "    df[\"ema\"] = tb.EMA(df[\"Close\"], timeperiod=long_ind)\n",
    "    df[\"dema\"] = tb.DEMA(df[\"Close\"], timeperiod=short_ind)\n",
    "    df[\"kama\"] = tb.KAMA(df[\"Close\"], timeperiod=short_ind)\n",
    "    df[\"sma\"] = tb.SMA(df[\"Close\"], timeperiod=long_ind)\n",
    "    df[\"sar\"] = tb.SAR(df[\"High\"], df[\"Low\"])\n",
    "    \n",
    "    df[\"long_ma\"] = tb.MA(df[\"Close\"], timeperiod=extra_long_ind)\n",
    "    df[\"long_ema\"] = tb.EMA(df[\"Close\"], timeperiod=extra_long_ind)\n",
    "    \n",
    "    df[\"super_ma\"] = tb.MA(df[\"Close\"], timeperiod=super_long_ind)\n",
    "    df[\"super_ema\"] = tb.EMA(df[\"Close\"], timeperiod=super_long_ind)\n",
    "\n",
    "    # MOMENTUM INDICATORS\n",
    "    df[\"adx\"] = tb.ADX(df[\"High\"], df[\"Low\"],\n",
    "                       df[\"Close\"], timeperiod=long_ind)\n",
    "    df[\"cci\"] = tb.CCI(df[\"High\"], df[\"Low\"],\n",
    "                       df[\"Close\"], timeperiod=long_ind)\n",
    "    df[\"apo\"] = tb.APO(df[\"Close\"], fastperiod=long_ind,\n",
    "                       slowperiod=short_ind)\n",
    "    df[\"bop\"] = tb.BOP(df[\"Open\"], df[\"High\"], df[\"Low\"], df[\"Close\"])\n",
    "    df[\"macd\"], df[\"macdsignal\"], df[\"macdhist\"] = tb.MACD(\n",
    "        df[\"Close\"], fastperiod=12, slowperiod=26, signalperiod=9)\n",
    "    df[\"mfi\"] = tb.MFI(df[\"High\"], df[\"Low\"], df[\"Close\"],\n",
    "                       df[\"Volume\"], timeperiod=long_ind)\n",
    "    df[\"mom\"] = tb.MOM(df[\"Close\"], timeperiod=long_ind)\n",
    "    df[\"rsi\"] = tb.RSI(df[\"Close\"], timeperiod=long_ind)\n",
    "    df[\"adxr\"] = tb.ADXR(df[\"High\"], df[\"Low\"], df[\"Close\"], timeperiod=long_ind)\n",
    "    df[\"aroon_up\"], df[\"aroon_down\"] = tb.AROON(df[\"High\"], df[\"Low\"], timeperiod=long_ind)\n",
    "    df[\"cci\"] = tb.CCI(df[\"High\"], df[\"Low\"], df[\"Close\"], timeperiod=long_ind)\n",
    "    \n",
    "    # OSCILLATOR INDICATORS\n",
    "    df[\"stoch\"], df[\"stoch_signal\"] = tb.STOCH(df[\"High\"], df[\"Low\"], df[\"Close\"])\n",
    "    df[\"rsi\"] = tb.RSI(df[\"Close\"], timeperiod=long_ind)\n",
    "    df[\"williamsr\"] = tb.WILLR(df[\"High\"], df[\"Low\"], df[\"Close\"], timeperiod=long_ind)\n",
    "\n",
    "    # VOLUME INDICATORS\n",
    "    df[\"ad\"] = tb.AD(df[\"High\"], df[\"Low\"], df[\"Close\"], df[\"Volume\"])\n",
    "    df[\"adosc\"] = tb.ADOSC(df[\"High\"], df[\"Low\"], df[\"Close\"],\n",
    "                           df[\"Volume\"], fastperiod=short_ind, slowperiod=long_ind)\n",
    "    df[\"obv\"] = tb.OBV(df[\"Close\"], df[\"Volume\"])\n",
    "    df[\"trange\"] = tb.TRANGE(df[\"High\"], df[\"Low\"], df[\"Close\"])\n",
    "    df[\"atr\"] = tb.ATR(df[\"High\"], df[\"Low\"],\n",
    "                       df[\"Close\"], timeperiod=long_ind)\n",
    "    df[\"natr\"] = tb.NATR(df[\"High\"], df[\"Low\"],\n",
    "                         df[\"Close\"], timeperiod=long_ind)\n",
    "    df[\"roc\"] = tb.ROC(df[\"Close\"], timeperiod=long_ind)\n",
    "    df[\"cmo\"] = tb.CMO(df[\"Close\"], timeperiod=long_ind)\n",
    "       \n",
    "    \n",
    "    # VOLATILITY INDICATORS\n",
    "    df[\"bbands_upper\"], df[\"bbands_middle\"], df[\"bbands_lower\"] = tb.BBANDS(df[\"Close\"], timeperiod=long_ind)\n",
    "    df[\"kc_middle\"] = tb.EMA(df[\"Close\"], timeperiod=long_ind)\n",
    "    df[\"kc_upper\"] = df[\"kc_middle\"] + df[\"atr\"]\n",
    "    df[\"kc_lower\"] = df[\"kc_middle\"] - df[\"atr\"]\n",
    "\n",
    "    \n",
    "    \n",
    "    df['closingmarubozu'] = tb.CDLCLOSINGMARUBOZU(df[\"Open\"],df[\"High\"],df[\"Low\"],df[\"Close\"])\n",
    "    df['harami'] = tb.CDLHARAMI(df[\"Open\"],df[\"High\"],df[\"Low\"],df[\"Close\"])\n",
    "    df['cdlshortline'] = tb.CDLSHORTLINE(df[\"Open\"],df[\"High\"],df[\"Low\"],df[\"Close\"])\n",
    "    df['spinningtop'] = tb.CDLSPINNINGTOP(df[\"Open\"],df[\"High\"],df[\"Low\"],df[\"Close\"])\n",
    "    df['cdllongline'] = tb.CDLLONGLINE(df[\"Open\"],df[\"High\"],df[\"Low\"],df[\"Close\"])\n",
    "    df['breakaway'] = tb.CDLBREAKAWAY(df[\"Open\"],df[\"High\"],df[\"Low\"],df[\"Close\"])\n",
    "    df['hammer'] = tb.CDLHAMMER(df[\"Open\"], df[\"High\"], df[\"Low\"], df[\"Close\"])\n",
    "    df['doji'] = tb.CDLDOJI(df[\"Open\"], df[\"High\"], df[\"Low\"], df[\"Close\"])\n",
    "    df['engulfing'] = tb.CDLENGULFING(df[\"Open\"], df[\"High\"], df[\"Low\"], df[\"Close\"])\n",
    "    df['morning_star'] = tb.CDLMORNINGSTAR(df[\"Open\"], df[\"High\"], df[\"Low\"], df[\"Close\"])\n",
    "    df['evening_star'] = tb.CDLEVENINGSTAR(df[\"Open\"], df[\"High\"], df[\"Low\"], df[\"Close\"])\n",
    "    \n",
    "    \n",
    "    trigrams = []\n",
    "    for i in range(1, len(df)):\n",
    "        current_row = df.index[i]\n",
    "        previous_row = df.index[i - 1]\n",
    "        if (df.loc[current_row, \"High\"] > df.loc[previous_row, \"High\"]) & (df.loc[current_row, \"Low\"] < df.loc[previous_row, \"Low\"]) & (\n",
    "                df.loc[current_row, \"Close\"] > df.loc[previous_row, \"Close\"]):\n",
    "            signal = 100  # \"BullishHorn\"\n",
    "        elif (df.loc[current_row, \"High\"] > df.loc[previous_row, \"High\"]) & (df.loc[current_row, \"Low\"] < df.loc[previous_row, \"Low\"]) & (\n",
    "                df.loc[current_row, \"Close\"] < df.loc[previous_row, \"Close\"]):\n",
    "            signal = -100  # \"BearHorn\"\n",
    "        elif (df.loc[current_row, \"High\"] > df.loc[previous_row, \"High\"]) & (df.loc[current_row, \"Low\"] > df.loc[previous_row, \"Low\"]) & (\n",
    "                df.loc[current_row, \"Close\"] > df.loc[previous_row, \"Close\"]):\n",
    "            signal = 100  # \"BullishHigh\"\n",
    "        elif (df.loc[current_row, \"High\"] > df.loc[previous_row, \"High\"]) & (df.loc[current_row, \"Low\"] > df.loc[previous_row, \"Low\"]) & (\n",
    "                df.loc[current_row, \"Close\"] < df.loc[previous_row, \"Close\"]):\n",
    "            signal = -100  # \"BearHigh\"\n",
    "        elif (df.loc[current_row, \"High\"] < df.loc[previous_row, \"High\"]) & (df.loc[current_row, \"Low\"] < df.loc[previous_row, \"Low\"]) & (\n",
    "                df.loc[current_row, \"Close\"] > df.loc[previous_row, \"Close\"]):\n",
    "            signal = 100  # \"BullishLow\"\n",
    "        elif (df.loc[current_row, \"High\"] < df.loc[previous_row, \"High\"]) & (df.loc[current_row, \"Low\"] < df.loc[previous_row, \"Low\"]) & (\n",
    "                df.loc[current_row, \"Close\"] < df.loc[previous_row, \"Close\"]):\n",
    "            signal = -100  # \"BearLow\"\n",
    "        elif (df.loc[current_row, \"High\"] < df.loc[previous_row, \"High\"]) & (df.loc[current_row, \"Low\"] > df.loc[previous_row, \"Low\"]) & (\n",
    "                df.loc[current_row, \"Close\"] > df.loc[previous_row, \"Close\"]):\n",
    "            signal = 100  # \"BullishHarami\"\n",
    "        elif (df.loc[current_row, \"High\"] < df.loc[previous_row, \"High\"]) & (df.loc[current_row, \"Low\"] > df.loc[previous_row, \"Low\"]) & (\n",
    "                df.loc[current_row, \"Close\"] < df.loc[previous_row, \"Close\"]):\n",
    "            signal = -100  # \"BearHarami\"\n",
    "        else:\n",
    "            signal = 0\n",
    "        trigrams.append(signal)\n",
    "    \n",
    "    df.drop(df.index[0], inplace=True)\n",
    "    df[\"trigrams\"] = trigrams\n",
    "    \n",
    "  \n",
    "    # TARGET\n",
    "    df[\"target\"] = df[\"Close\"].pct_change().rolling(avg_days).mean().shift(avg_days)\n",
    "    \n",
    "    df.dropna(inplace=True)\n",
    "    \n",
    "    return df\n",
    "\n",
    "\n",
    "\n",
    "data = format_data(yf.download(tickers=\"AAPL\", period=\"2y\"))\n",
    "data"
   ],
   "metadata": {
    "collapsed": false,
    "ExecuteTime": {
     "end_time": "2023-09-26T16:33:32.718616800Z",
     "start_time": "2023-09-26T16:33:30.528528200Z"
    }
   },
   "id": "initial_id"
  },
  {
   "cell_type": "code",
   "execution_count": 21,
   "id": "8613be4f1d53678c",
   "metadata": {
    "collapsed": false,
    "ExecuteTime": {
     "end_time": "2023-09-26T16:34:06.655128Z",
     "start_time": "2023-09-26T16:33:32.720629100Z"
    }
   },
   "outputs": [
    {
     "name": "stdout",
     "output_type": "stream",
     "text": [
      "\tFitting Models...\n",
      "2/2 [==============================] - 1s 14ms/step\n"
     ]
    }
   ],
   "source": [
    "def fit_models(sample, cv=0):\n",
    "    ITER_SIZE = 5\n",
    "    _df_list = []\n",
    "\n",
    "    for col in sample.columns:\n",
    "        _df = pd.DataFrame()\n",
    "        _df[col] = sample[col]\n",
    "        for i in range(ITER_SIZE):\n",
    "            _df[f\"{col}_{i}\"] = sample[col].shift(periods=i + 1)\n",
    "        _df_list.append(_df)\n",
    "\n",
    "    _df = pd.concat(_df_list, axis=1)\n",
    "    \n",
    "    sample = _df\n",
    "    \n",
    "    \n",
    "    \n",
    "\n",
    "    X = sample.dropna().drop([\"target\"], axis=1)\n",
    "    X = X.dropna().drop([f\"target_{i}\" for i in range(ITER_SIZE)], axis=1)\n",
    "    \n",
    "    sample.dropna(inplace=True)\n",
    "    y = sample[\n",
    "        \"target\"].shift(-1).apply(lambda x: 1 if x>0 else 0)\n",
    "        \n",
    "        \n",
    "    scaler = StandardScaler()\n",
    "    pipeline = Pipeline(steps=[(\"scaler\", scaler), ])\n",
    "    X = pipeline.fit_transform(X)\n",
    "    \n",
    "    split_size = int(len(X) * 0.8)\n",
    "    X_train, y_train = X[:split_size], y[:split_size]\n",
    "    X_test, y_test = X[split_size:], y[split_size:]\n",
    "    \n",
    "    y_train = np.stack(y_train.values.tolist(), axis=0)\n",
    "    y_test = np.stack(y_test.values.tolist(), axis=0)\n",
    "    X_train = np.asarray(X_train).astype(np.float32)\n",
    "    y_train = np.asarray(y_train).astype(np.float32)\n",
    "    X_test = np.asarray(X_test).astype(np.float32)\n",
    "    y_test = np.asarray(y_test).astype(np.float32)\n",
    "    \n",
    "    X_train_lstm = X_train.reshape(X_train.shape[0], -1, ITER_SIZE+1)\n",
    "    X_test_lstm = X_test.reshape(X_test.shape[0], -1, ITER_SIZE+1)\n",
    "    \n",
    "    y_preds = [] \n",
    "    \n",
    "    print(\"\\tFitting Models...\")\n",
    "    \n",
    "    svm = SVC(C=1, gamma=0.1)\n",
    "    svm.fit(X_train, y_train)\n",
    "    y_preds.append(svm.predict(X_test).astype(int))\n",
    "    \n",
    "    knn = KNeighborsClassifier(n_neighbors=150, weights=\"distance\", algorithm=\"auto\", leaf_size=1)\n",
    "    knn.fit(X_train, y_train)\n",
    "    y_preds.append(knn.predict(X_test).astype(int))\n",
    "    \n",
    "    rf = RandomForestClassifier(n_estimators=9, criterion=\"gini\", min_samples_leaf=5, max_depth=1)\n",
    "    rf.fit(X_train, y_train)\n",
    "    y_preds.append(rf.predict(X_test).astype(int))\n",
    "    \n",
    "    gb = GradientBoostingClassifier(n_estimators=1, max_features=7, max_depth=1)\n",
    "    gb.fit(X_train, y_train)\n",
    "    y_preds.append(gb.predict(X_test).astype(int))\n",
    "    \n",
    "    xgb_model = xgb.XGBClassifier(n_estimators=10, max_depth=3, min_child_weight=10, gamma=0, learning_rate=0.1, seed=27, subsample=0.65)\n",
    "    xgb_model.fit(X_train,y_train)\n",
    "    y_preds.append(xgb_model.predict(X_test).astype(int))\n",
    "    \n",
    "    lstm = Sequential([\n",
    "    layers.Input((X_train_lstm.shape[1], ITER_SIZE + 1)),\n",
    "    layers.LSTM(64, return_sequences=True),\n",
    "    layers.LSTM(64),\n",
    "    layers.Dense(32, activation=\"relu\"),\n",
    "    layers.Dense(32, activation=\"relu\"),\n",
    "    layers.Dense(1, activation=\"sigmoid\")\n",
    "    ])\n",
    "    \n",
    "    lstm.compile(loss=\"binary_crossentropy\", optimizer=Adam(learning_rate=0.001), metrics=[\"accuracy\"])\n",
    "    \n",
    "    lstm.fit(X_train_lstm, y_train, epochs=100, verbose=0)\n",
    "    y_preds.append((lstm.predict(X_test_lstm).flatten() >= 0.5).astype(int))\n",
    "\n",
    "\n",
    "    return y_preds, y_test.astype(int)\n",
    "\n",
    "preds, y_test = fit_models(data)\n",
    "\n",
    "\n"
   ]
  },
  {
   "cell_type": "code",
   "execution_count": 22,
   "id": "3dff786d90efe81f",
   "metadata": {
    "collapsed": false,
    "ExecuteTime": {
     "end_time": "2023-09-26T16:34:06.726443200Z",
     "start_time": "2023-09-26T16:34:06.662088900Z"
    }
   },
   "outputs": [],
   "source": [
    "def score_predictions(ticker,y_test ,y_pred,average=\"binary\"):\n",
    "          \n",
    "    \n",
    "    df = pd.DataFrame({\"ticker\": ticker,\n",
    "                    \"svm_acc\": metrics.accuracy_score(y_test, y_pred[0]),\n",
    "                    \"svm_prec\": metrics.precision_score(y_test, y_pred[0], average=average),\n",
    "                    \"svm_recall\": metrics.recall_score(y_test, y_pred[0], average=average),\n",
    "                    \"svm_f1\": metrics.f1_score(y_test, y_pred[0], average=average),\n",
    "                    \"knn_acc\": metrics.accuracy_score(y_test, y_pred[1]),\n",
    "                    \"knn_prec\": metrics.precision_score(y_test, y_pred[1], average=average),\n",
    "                    \"knn_recall\": metrics.recall_score(y_test, y_pred[1], average=average),\n",
    "                    \"knn_f1\": metrics.f1_score(y_test, y_pred[1], average=average),\n",
    "                    \"rf_acc\": metrics.accuracy_score(y_test, y_pred[2]),\n",
    "                    \"rf_prec\": metrics.precision_score(y_test, y_pred[2], average=average),\n",
    "                    \"rf_recall\": metrics.recall_score(y_test, y_pred[2], average=average),\n",
    "                    \"rf_f1\": metrics.f1_score(y_test, y_pred[2], average=average),\n",
    "                    \"gb_acc\": metrics.accuracy_score(y_test, y_pred[3]),\n",
    "                    \"gb_prec\": metrics.precision_score(y_test, y_pred[3], average=average),\n",
    "                    \"gb_recall\": metrics.recall_score(y_test, y_pred[3], average=average),\n",
    "                    \"gb_f1\": metrics.f1_score(y_test, y_pred[3], average=average),\n",
    "                    \"xgb_acc\": metrics.accuracy_score(y_test, y_pred[4]),\n",
    "                    \"xgb_prec\": metrics.precision_score(y_test, y_pred[4], average=average),\n",
    "                    \"xgb_recall\": metrics.recall_score(y_test, y_pred[4], average=average),\n",
    "                    \"xgb_f1\": metrics.f1_score(y_test, y_pred[4], average=average),\n",
    "                    \"lstm_acc\": metrics.accuracy_score(y_test, y_pred[5]),\n",
    "                    \"lstm_prec\": metrics.precision_score(y_test, y_pred[5], average=average),\n",
    "                    \"lstm_recall\": metrics.recall_score(y_test, y_pred[5], average=average),\n",
    "                    \"lstm_f1\": metrics.f1_score(y_test, y_pred[5], average=average), }, index=[0])\n",
    "    \n",
    "    return df\n",
    "\n",
    "score = score_predictions(ticker=\"AAPL\", y_pred=preds, y_test=y_test)"
   ]
  },
  {
   "cell_type": "code",
   "execution_count": 23,
   "id": "b7aa6e772d8659ae",
   "metadata": {
    "collapsed": false,
    "ExecuteTime": {
     "end_time": "2023-09-26T16:34:06.776215100Z",
     "start_time": "2023-09-26T16:34:06.727890300Z"
    }
   },
   "outputs": [
    {
     "data": {
      "text/plain": "  ticker  svm_acc  svm_prec  svm_recall    svm_f1  knn_acc  knn_prec  \\\n0   AAPL     0.42      0.42         1.0  0.591549     0.42      0.42   \n\n   knn_recall    knn_f1  rf_acc  ...  gb_recall     gb_f1  xgb_acc  xgb_prec  \\\n0         1.0  0.591549     0.8  ...        1.0  0.591549     0.86      0.85   \n\n   xgb_recall    xgb_f1  lstm_acc  lstm_prec  lstm_recall   lstm_f1  \n0    0.809524  0.829268      0.48   0.444444     0.952381  0.606061  \n\n[1 rows x 25 columns]",
      "text/html": "<div>\n<style scoped>\n    .dataframe tbody tr th:only-of-type {\n        vertical-align: middle;\n    }\n\n    .dataframe tbody tr th {\n        vertical-align: top;\n    }\n\n    .dataframe thead th {\n        text-align: right;\n    }\n</style>\n<table border=\"1\" class=\"dataframe\">\n  <thead>\n    <tr style=\"text-align: right;\">\n      <th></th>\n      <th>ticker</th>\n      <th>svm_acc</th>\n      <th>svm_prec</th>\n      <th>svm_recall</th>\n      <th>svm_f1</th>\n      <th>knn_acc</th>\n      <th>knn_prec</th>\n      <th>knn_recall</th>\n      <th>knn_f1</th>\n      <th>rf_acc</th>\n      <th>...</th>\n      <th>gb_recall</th>\n      <th>gb_f1</th>\n      <th>xgb_acc</th>\n      <th>xgb_prec</th>\n      <th>xgb_recall</th>\n      <th>xgb_f1</th>\n      <th>lstm_acc</th>\n      <th>lstm_prec</th>\n      <th>lstm_recall</th>\n      <th>lstm_f1</th>\n    </tr>\n  </thead>\n  <tbody>\n    <tr>\n      <th>0</th>\n      <td>AAPL</td>\n      <td>0.42</td>\n      <td>0.42</td>\n      <td>1.0</td>\n      <td>0.591549</td>\n      <td>0.42</td>\n      <td>0.42</td>\n      <td>1.0</td>\n      <td>0.591549</td>\n      <td>0.8</td>\n      <td>...</td>\n      <td>1.0</td>\n      <td>0.591549</td>\n      <td>0.86</td>\n      <td>0.85</td>\n      <td>0.809524</td>\n      <td>0.829268</td>\n      <td>0.48</td>\n      <td>0.444444</td>\n      <td>0.952381</td>\n      <td>0.606061</td>\n    </tr>\n  </tbody>\n</table>\n<p>1 rows × 25 columns</p>\n</div>"
     },
     "execution_count": 23,
     "metadata": {},
     "output_type": "execute_result"
    }
   ],
   "source": [
    "score"
   ]
  },
  {
   "cell_type": "code",
   "execution_count": 24,
   "id": "1394133de50e4683",
   "metadata": {
    "collapsed": false,
    "ExecuteTime": {
     "end_time": "2023-09-26T16:34:07.146502700Z",
     "start_time": "2023-09-26T16:34:06.757637200Z"
    }
   },
   "outputs": [
    {
     "data": {
      "text/plain": "<Figure size 1000x800 with 1 Axes>",
      "image/png": "[encoded data removed]"
     },
     "metadata": {},
     "output_type": "display_data"
    }
   ],
   "source": [
    "def plot_scores(score_df):\n",
    "  \n",
    "    columns_to_plot = [\"svm_acc\", \"knn_acc\", \"rf_acc\", \"gb_acc\", \"xgb_acc\",\"lstm_acc\"]\n",
    "    \n",
    "    ticker = score_df[\"ticker\"].values[0]\n",
    "    scores = score_df[columns_to_plot].values[0]\n",
    "\n",
    "    plt.figure(figsize=(10, 8))\n",
    "    plt.bar(columns_to_plot, scores, color='blue', alpha=0.7)\n",
    "    plt.xlabel('Models')\n",
    "    plt.ylabel('Accuracy')\n",
    "    plt.title(f'Accuracy Scores for Ticker: {ticker}')\n",
    "    plt.yticks(np.arange(0,1,0.1))\n",
    "    plt.ylim(0, 1.0)  \n",
    "    plt.grid(axis='y', linestyle='--', alpha=0.7)\n",
    "\n",
    "    plt.tight_layout()\n",
    "    plt.show()\n",
    "\n",
    "\n",
    "plot_scores(score)"
   ]
  },
  {
   "cell_type": "code",
   "execution_count": null,
   "outputs": [],
   "source": [],
   "metadata": {
    "collapsed": false
   },
   "id": "1cabf214f29d3cd0"
  }
 ],
 "metadata": {
  "kernelspec": {
   "display_name": "Python 3 (ipykernel)",
   "language": "python",
   "name": "python3"
  },
  "language_info": {
   "codemirror_mode": {
    "name": "ipython",
    "version": 3
   },
   "file_extension": ".py",
   "mimetype": "text/x-python",
   "name": "python",
   "nbconvert_exporter": "python",
   "pygments_lexer": "ipython3",
   "version": "3.8.18"
  }
 },
 "nbformat": 4,
 "nbformat_minor": 5
}
