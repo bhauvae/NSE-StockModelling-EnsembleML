{
 "cells": [
  {
   "cell_type": "code",
   "execution_count": 1,
   "id": "initial_id",
   "metadata": {
    "collapsed": true,
    "ExecuteTime": {
     "end_time": "2023-09-27T04:56:45.153149400Z",
     "start_time": "2023-09-27T04:56:44.658378300Z"
    }
   },
   "outputs": [],
   "source": [
    "import pandas as pd"
   ]
  },
  {
   "cell_type": "code",
   "execution_count": 7,
   "outputs": [
    {
     "data": {
      "text/plain": "          ticker   svm_acc  svm_prec  svm_recall    svm_f1   knn_acc  \\\n0    BKMINDST.NS  0.571429  0.000000         0.0  0.000000  0.571429   \n0  BLBLIMITED.NS  0.285714  0.000000         0.0  0.000000  0.285714   \n0    BLISSGVS.NS  0.510204  0.000000         0.0  0.000000  0.714286   \n0   BIRLATYRE.NS  0.408163  0.000000         0.0  0.000000  0.551020   \n0  BIOFILCHEM.NS  0.408163  0.000000         0.0  0.000000  0.673469   \n0         BIL.NS  0.632653  0.000000         0.0  0.000000  0.755102   \n0     BIGBLOC.NS  0.428571  0.428571         1.0  0.600000  0.755102   \n0      BIOCON.NS  0.367347  0.000000         0.0  0.000000  0.653061   \n0  BIRLACABLE.NS  0.306122  0.000000         0.0  0.000000  0.836735   \n0  BIRLACORPN.NS  0.489796  0.489796         1.0  0.657534  0.775510   \n0       BSOFT.NS  0.734694  0.734694         1.0  0.847059  0.857143   \n\n   knn_prec  knn_recall    knn_f1    rf_acc  ...  gb_recall     gb_f1  \\\n0  0.000000    0.000000  0.000000  0.816327  ...   0.000000  0.000000   \n0  0.000000    0.000000  0.000000  0.755102  ...   0.000000  0.000000   \n0  0.857143    0.500000  0.631579  0.795918  ...   0.000000  0.000000   \n0  1.000000    0.241379  0.388889  0.795918  ...   0.000000  0.000000   \n0  1.000000    0.448276  0.619048  0.775510  ...   0.000000  0.000000   \n0  0.800000    0.444444  0.571429  0.836735  ...   0.277778  0.416667   \n0  0.714286    0.714286  0.714286  0.816327  ...   0.190476  0.258065   \n0  1.000000    0.451613  0.622222  0.755102  ...   0.000000  0.000000   \n0  0.825000    0.970588  0.891892  0.857143  ...   0.941176  0.888889   \n0  0.740741    0.833333  0.784314  0.877551  ...   0.583333  0.700000   \n0  0.837209    1.000000  0.911392  0.897959  ...   1.000000  0.935065   \n\n    xgb_acc  xgb_prec  xgb_recall    xgb_f1  lstm_acc  lstm_prec  lstm_recall  \\\n0  0.877551  0.857143    0.857143  0.857143  0.714286   0.684211     0.619048   \n0  0.857143  0.833333    1.000000  0.909091  0.734694   0.739130     0.971429   \n0  0.857143  0.793103    0.958333  0.867925  0.469388   0.000000     0.000000   \n0  0.877551  0.896552    0.896552  0.896552  0.775510   0.950000     0.655172   \n0  0.795918  0.771429    0.931034  0.843750  0.693878   0.684211     0.896552   \n0  0.836735  0.727273    0.888889  0.800000  0.795918   0.722222     0.722222   \n0  0.918367  0.904762    0.904762  0.904762  0.755102   0.846154     0.523810   \n0  0.734694  0.764706    0.838710  0.800000  0.632653   0.882353     0.483871   \n0  0.877551  0.850000    1.000000  0.918919  0.755102   0.750000     0.970588   \n0  0.877551  0.875000    0.875000  0.875000  0.755102   0.730769     0.791667   \n0  0.918367  0.900000    1.000000  0.947368  0.734694   0.734694     1.000000   \n\n    lstm_f1  \n0  0.650000  \n0  0.839506  \n0  0.000000  \n0  0.775510  \n0  0.776119  \n0  0.722222  \n0  0.647059  \n0  0.625000  \n0  0.846154  \n0  0.760000  \n0  0.847059  \n\n[11 rows x 25 columns]",
      "text/html": "<div>\n<style scoped>\n    .dataframe tbody tr th:only-of-type {\n        vertical-align: middle;\n    }\n\n    .dataframe tbody tr th {\n        vertical-align: top;\n    }\n\n    .dataframe thead th {\n        text-align: right;\n    }\n</style>\n<table border=\"1\" class=\"dataframe\">\n  <thead>\n    <tr style=\"text-align: right;\">\n      <th></th>\n      <th>ticker</th>\n      <th>svm_acc</th>\n      <th>svm_prec</th>\n      <th>svm_recall</th>\n      <th>svm_f1</th>\n      <th>knn_acc</th>\n      <th>knn_prec</th>\n      <th>knn_recall</th>\n      <th>knn_f1</th>\n      <th>rf_acc</th>\n      <th>...</th>\n      <th>gb_recall</th>\n      <th>gb_f1</th>\n      <th>xgb_acc</th>\n      <th>xgb_prec</th>\n      <th>xgb_recall</th>\n      <th>xgb_f1</th>\n      <th>lstm_acc</th>\n      <th>lstm_prec</th>\n      <th>lstm_recall</th>\n      <th>lstm_f1</th>\n    </tr>\n  </thead>\n  <tbody>\n    <tr>\n      <th>0</th>\n      <td>BKMINDST.NS</td>\n      <td>0.571429</td>\n      <td>0.000000</td>\n      <td>0.0</td>\n      <td>0.000000</td>\n      <td>0.571429</td>\n      <td>0.000000</td>\n      <td>0.000000</td>\n      <td>0.000000</td>\n      <td>0.816327</td>\n      <td>...</td>\n      <td>0.000000</td>\n      <td>0.000000</td>\n      <td>0.877551</td>\n      <td>0.857143</td>\n      <td>0.857143</td>\n      <td>0.857143</td>\n      <td>0.714286</td>\n      <td>0.684211</td>\n      <td>0.619048</td>\n      <td>0.650000</td>\n    </tr>\n    <tr>\n      <th>0</th>\n      <td>BLBLIMITED.NS</td>\n      <td>0.285714</td>\n      <td>0.000000</td>\n      <td>0.0</td>\n      <td>0.000000</td>\n      <td>0.285714</td>\n      <td>0.000000</td>\n      <td>0.000000</td>\n      <td>0.000000</td>\n      <td>0.755102</td>\n      <td>...</td>\n      <td>0.000000</td>\n      <td>0.000000</td>\n      <td>0.857143</td>\n      <td>0.833333</td>\n      <td>1.000000</td>\n      <td>0.909091</td>\n      <td>0.734694</td>\n      <td>0.739130</td>\n      <td>0.971429</td>\n      <td>0.839506</td>\n    </tr>\n    <tr>\n      <th>0</th>\n      <td>BLISSGVS.NS</td>\n      <td>0.510204</td>\n      <td>0.000000</td>\n      <td>0.0</td>\n      <td>0.000000</td>\n      <td>0.714286</td>\n      <td>0.857143</td>\n      <td>0.500000</td>\n      <td>0.631579</td>\n      <td>0.795918</td>\n      <td>...</td>\n      <td>0.000000</td>\n      <td>0.000000</td>\n      <td>0.857143</td>\n      <td>0.793103</td>\n      <td>0.958333</td>\n      <td>0.867925</td>\n      <td>0.469388</td>\n      <td>0.000000</td>\n      <td>0.000000</td>\n      <td>0.000000</td>\n    </tr>\n    <tr>\n      <th>0</th>\n      <td>BIRLATYRE.NS</td>\n      <td>0.408163</td>\n      <td>0.000000</td>\n      <td>0.0</td>\n      <td>0.000000</td>\n      <td>0.551020</td>\n      <td>1.000000</td>\n      <td>0.241379</td>\n      <td>0.388889</td>\n      <td>0.795918</td>\n      <td>...</td>\n      <td>0.000000</td>\n      <td>0.000000</td>\n      <td>0.877551</td>\n      <td>0.896552</td>\n      <td>0.896552</td>\n      <td>0.896552</td>\n      <td>0.775510</td>\n      <td>0.950000</td>\n      <td>0.655172</td>\n      <td>0.775510</td>\n    </tr>\n    <tr>\n      <th>0</th>\n      <td>BIOFILCHEM.NS</td>\n      <td>0.408163</td>\n      <td>0.000000</td>\n      <td>0.0</td>\n      <td>0.000000</td>\n      <td>0.673469</td>\n      <td>1.000000</td>\n      <td>0.448276</td>\n      <td>0.619048</td>\n      <td>0.775510</td>\n      <td>...</td>\n      <td>0.000000</td>\n      <td>0.000000</td>\n      <td>0.795918</td>\n      <td>0.771429</td>\n      <td>0.931034</td>\n      <td>0.843750</td>\n      <td>0.693878</td>\n      <td>0.684211</td>\n      <td>0.896552</td>\n      <td>0.776119</td>\n    </tr>\n    <tr>\n      <th>0</th>\n      <td>BIL.NS</td>\n      <td>0.632653</td>\n      <td>0.000000</td>\n      <td>0.0</td>\n      <td>0.000000</td>\n      <td>0.755102</td>\n      <td>0.800000</td>\n      <td>0.444444</td>\n      <td>0.571429</td>\n      <td>0.836735</td>\n      <td>...</td>\n      <td>0.277778</td>\n      <td>0.416667</td>\n      <td>0.836735</td>\n      <td>0.727273</td>\n      <td>0.888889</td>\n      <td>0.800000</td>\n      <td>0.795918</td>\n      <td>0.722222</td>\n      <td>0.722222</td>\n      <td>0.722222</td>\n    </tr>\n    <tr>\n      <th>0</th>\n      <td>BIGBLOC.NS</td>\n      <td>0.428571</td>\n      <td>0.428571</td>\n      <td>1.0</td>\n      <td>0.600000</td>\n      <td>0.755102</td>\n      <td>0.714286</td>\n      <td>0.714286</td>\n      <td>0.714286</td>\n      <td>0.816327</td>\n      <td>...</td>\n      <td>0.190476</td>\n      <td>0.258065</td>\n      <td>0.918367</td>\n      <td>0.904762</td>\n      <td>0.904762</td>\n      <td>0.904762</td>\n      <td>0.755102</td>\n      <td>0.846154</td>\n      <td>0.523810</td>\n      <td>0.647059</td>\n    </tr>\n    <tr>\n      <th>0</th>\n      <td>BIOCON.NS</td>\n      <td>0.367347</td>\n      <td>0.000000</td>\n      <td>0.0</td>\n      <td>0.000000</td>\n      <td>0.653061</td>\n      <td>1.000000</td>\n      <td>0.451613</td>\n      <td>0.622222</td>\n      <td>0.755102</td>\n      <td>...</td>\n      <td>0.000000</td>\n      <td>0.000000</td>\n      <td>0.734694</td>\n      <td>0.764706</td>\n      <td>0.838710</td>\n      <td>0.800000</td>\n      <td>0.632653</td>\n      <td>0.882353</td>\n      <td>0.483871</td>\n      <td>0.625000</td>\n    </tr>\n    <tr>\n      <th>0</th>\n      <td>BIRLACABLE.NS</td>\n      <td>0.306122</td>\n      <td>0.000000</td>\n      <td>0.0</td>\n      <td>0.000000</td>\n      <td>0.836735</td>\n      <td>0.825000</td>\n      <td>0.970588</td>\n      <td>0.891892</td>\n      <td>0.857143</td>\n      <td>...</td>\n      <td>0.941176</td>\n      <td>0.888889</td>\n      <td>0.877551</td>\n      <td>0.850000</td>\n      <td>1.000000</td>\n      <td>0.918919</td>\n      <td>0.755102</td>\n      <td>0.750000</td>\n      <td>0.970588</td>\n      <td>0.846154</td>\n    </tr>\n    <tr>\n      <th>0</th>\n      <td>BIRLACORPN.NS</td>\n      <td>0.489796</td>\n      <td>0.489796</td>\n      <td>1.0</td>\n      <td>0.657534</td>\n      <td>0.775510</td>\n      <td>0.740741</td>\n      <td>0.833333</td>\n      <td>0.784314</td>\n      <td>0.877551</td>\n      <td>...</td>\n      <td>0.583333</td>\n      <td>0.700000</td>\n      <td>0.877551</td>\n      <td>0.875000</td>\n      <td>0.875000</td>\n      <td>0.875000</td>\n      <td>0.755102</td>\n      <td>0.730769</td>\n      <td>0.791667</td>\n      <td>0.760000</td>\n    </tr>\n    <tr>\n      <th>0</th>\n      <td>BSOFT.NS</td>\n      <td>0.734694</td>\n      <td>0.734694</td>\n      <td>1.0</td>\n      <td>0.847059</td>\n      <td>0.857143</td>\n      <td>0.837209</td>\n      <td>1.000000</td>\n      <td>0.911392</td>\n      <td>0.897959</td>\n      <td>...</td>\n      <td>1.000000</td>\n      <td>0.935065</td>\n      <td>0.918367</td>\n      <td>0.900000</td>\n      <td>1.000000</td>\n      <td>0.947368</td>\n      <td>0.734694</td>\n      <td>0.734694</td>\n      <td>1.000000</td>\n      <td>0.847059</td>\n    </tr>\n  </tbody>\n</table>\n<p>11 rows × 25 columns</p>\n</div>"
     },
     "execution_count": 7,
     "metadata": {},
     "output_type": "execute_result"
    }
   ],
   "source": [
    "d = pd.read_pickle(\"./2y/score/21.pkl\")\n",
    "d"
   ],
   "metadata": {
    "collapsed": false,
    "ExecuteTime": {
     "end_time": "2023-09-27T05:01:29.344696300Z",
     "start_time": "2023-09-27T05:01:29.290265500Z"
    }
   },
   "id": "fd70a3e173b417c5"
  },
  {
   "cell_type": "code",
   "execution_count": 9,
   "outputs": [
    {
     "data": {
      "text/plain": "array(['ACEINTEG.NS', 'ACEINTEG.NS', 'ACEINTEG.NS', 'ACEINTEG.NS',\n       'ACEINTEG.NS', 'ACEINTEG.NS', 'ALCHEM.NS', 'ALCHEM.NS',\n       'ALCHEM.NS', 'ALCHEM.NS', 'ALCHEM.NS', 'ALCHEM.NS', '5PAISA.NS',\n       '5PAISA.NS', '5PAISA.NS', '5PAISA.NS', '5PAISA.NS', '5PAISA.NS',\n       'ASAHIINDIA.NS', 'ASAHIINDIA.NS', 'ASAHIINDIA.NS', 'ASAHIINDIA.NS',\n       'ASAHIINDIA.NS', 'ASAHIINDIA.NS', 'ACE.NS', 'ACE.NS', 'ACE.NS',\n       'ACE.NS', 'ACE.NS', 'ACE.NS', 'ALLSEC.NS', 'ALLSEC.NS',\n       'ALLSEC.NS', 'ALLSEC.NS', 'ALLSEC.NS', 'ALLSEC.NS', 'APOLLO.NS',\n       'APOLLO.NS', 'APOLLO.NS', 'APOLLO.NS', 'APOLLO.NS', 'APOLLO.NS',\n       'ALMONDZ.NS', 'ALMONDZ.NS', 'ALMONDZ.NS', 'ALMONDZ.NS',\n       'ALMONDZ.NS', 'ALMONDZ.NS', 'ADVENZYMES.NS', 'ADVENZYMES.NS',\n       'ADVENZYMES.NS', 'ADVENZYMES.NS', 'ADVENZYMES.NS', 'ADVENZYMES.NS',\n       'ASTEC.NS', 'ASTEC.NS', 'ASTEC.NS', 'ASTEC.NS', 'ASTEC.NS',\n       'ASTEC.NS', 'ACC.NS', 'ACC.NS', 'ACC.NS', 'ACC.NS', 'ACC.NS',\n       'ACC.NS', 'ABMINTLTD.NS', 'ABMINTLTD.NS', 'ABMINTLTD.NS',\n       'ABMINTLTD.NS', 'ABMINTLTD.NS', 'ABMINTLTD.NS', 'ABAN.NS',\n       'ABAN.NS', 'ABAN.NS', 'ABAN.NS', 'ABAN.NS', 'ABAN.NS', 'ASTRAL.NS',\n       'ASTRAL.NS', 'ASTRAL.NS', 'ASTRAL.NS', 'ASTRAL.NS', 'ASTRAL.NS',\n       'ALPA.NS', 'ALPA.NS', 'ALPA.NS', 'ALPA.NS', 'ALPA.NS', 'ALPA.NS',\n       'AKSHOPTFBR.NS', 'AKSHOPTFBR.NS', 'AKSHOPTFBR.NS', 'AKSHOPTFBR.NS',\n       'AKSHOPTFBR.NS', 'AKSHOPTFBR.NS', 'ARVSMART.NS', 'ARVSMART.NS',\n       'ARVSMART.NS', 'ARVSMART.NS', 'ARVSMART.NS', 'ARVSMART.NS',\n       'ASTRAMICRO.NS', 'ASTRAMICRO.NS', 'ASTRAMICRO.NS', 'ASTRAMICRO.NS',\n       'ASTRAMICRO.NS', 'ASTRAMICRO.NS', 'ALEMBICLTD.NS', 'ALEMBICLTD.NS',\n       'ALEMBICLTD.NS', 'ALEMBICLTD.NS', 'ALEMBICLTD.NS', 'ALEMBICLTD.NS',\n       'ACCELYA.NS', 'ACCELYA.NS', 'ACCELYA.NS', 'ACCELYA.NS',\n       'ACCELYA.NS', 'ACCELYA.NS', 'ANIKINDS.NS', 'ANIKINDS.NS',\n       'ANIKINDS.NS', 'ANIKINDS.NS', 'ANIKINDS.NS', 'ANIKINDS.NS',\n       'AJANTPHARM.NS', 'AJANTPHARM.NS', 'AJANTPHARM.NS', 'AJANTPHARM.NS',\n       'AJANTPHARM.NS', 'AJANTPHARM.NS', 'ASALCBR.NS', 'ASALCBR.NS',\n       'ASALCBR.NS', 'ASALCBR.NS', 'ASALCBR.NS', 'ASALCBR.NS',\n       'ARIHANTSUP.NS', 'ARIHANTSUP.NS', 'ARIHANTSUP.NS', 'ARIHANTSUP.NS',\n       'ARIHANTSUP.NS', 'ARIHANTSUP.NS', 'ABNINT.NS', 'ABNINT.NS',\n       'ABNINT.NS', 'ABNINT.NS', 'ABNINT.NS', 'ABNINT.NS', '3MINDIA.NS',\n       '3MINDIA.NS', '3MINDIA.NS', '3MINDIA.NS', '3MINDIA.NS',\n       '3MINDIA.NS', '3RDROCK.NS', '3RDROCK.NS', '3RDROCK.NS',\n       '3RDROCK.NS', '3RDROCK.NS', '3RDROCK.NS', 'ARSHIYA.NS',\n       'ARSHIYA.NS', 'ARSHIYA.NS', 'ARSHIYA.NS', 'ARSHIYA.NS',\n       'ARSHIYA.NS', 'ARSSINFRA.NS', 'ARSSINFRA.NS', 'ARSSINFRA.NS',\n       'ARSSINFRA.NS', 'ARSSINFRA.NS', 'ARSSINFRA.NS', 'APOLSINHOT.NS',\n       'APOLSINHOT.NS', 'APOLSINHOT.NS', 'APOLSINHOT.NS', 'APOLSINHOT.NS',\n       'APOLSINHOT.NS', 'ASHIANA.NS', 'ASHIANA.NS', 'ASHIANA.NS',\n       'ASHIANA.NS', 'ASHIANA.NS', 'ASHIANA.NS', 'AHLEAST.NS',\n       'AHLEAST.NS', 'AHLEAST.NS', 'AHLEAST.NS', 'AHLEAST.NS',\n       'AHLEAST.NS', 'ARCHIDPLY.NS', 'ARCHIDPLY.NS', 'ARCHIDPLY.NS',\n       'ARCHIDPLY.NS', 'ARCHIDPLY.NS', 'ARCHIDPLY.NS', 'ASAHISONG.NS',\n       'ASAHISONG.NS', 'ASAHISONG.NS', 'ASAHISONG.NS', 'ASAHISONG.NS',\n       'ASAHISONG.NS', 'AMJUMBO.NS', 'AMJUMBO.NS', 'AMJUMBO.NS',\n       'AMJUMBO.NS', 'AMJUMBO.NS', 'AMJUMBO.NS', 'APCL.NS', 'APCL.NS',\n       'APCL.NS', 'APCL.NS', 'APCL.NS', 'APCL.NS', '3IINFOTECH.NS',\n       '3IINFOTECH.NS', '3IINFOTECH.NS', '3IINFOTECH.NS', '3IINFOTECH.NS',\n       '3IINFOTECH.NS', 'AFFLE.NS', 'AFFLE.NS', 'AFFLE.NS', 'AFFLE.NS',\n       'AFFLE.NS', 'AFFLE.NS', 'APEX.NS', 'APEX.NS', 'APEX.NS', 'APEX.NS',\n       'APEX.NS', 'APEX.NS', 'ADANIPOWER.NS', 'ADANIPOWER.NS',\n       'ADANIPOWER.NS', 'ADANIPOWER.NS', 'ADANIPOWER.NS', 'ADANIPOWER.NS',\n       'ADANIGREEN.NS', 'ADANIGREEN.NS', 'ADANIGREEN.NS', 'ADANIGREEN.NS',\n       'ADANIGREEN.NS', 'ADANIGREEN.NS', 'ARIHANT.NS', 'ARIHANT.NS',\n       'ARIHANT.NS', 'ARIHANT.NS', 'ARIHANT.NS', 'ARIHANT.NS',\n       '20MICRONS.NS', '20MICRONS.NS', '20MICRONS.NS', '20MICRONS.NS',\n       '20MICRONS.NS', '20MICRONS.NS', 'AIROLAM.NS', 'AIROLAM.NS',\n       'AIROLAM.NS', 'AIROLAM.NS', 'AIROLAM.NS', 'AIROLAM.NS',\n       'AARTIIND.NS', 'AARTIIND.NS', 'AARTIIND.NS', 'AARTIIND.NS',\n       'AARTIIND.NS', 'AARTIIND.NS', 'ANANTRAJ.NS', 'ANANTRAJ.NS',\n       'ANANTRAJ.NS', 'ANANTRAJ.NS', 'ANANTRAJ.NS', 'ANANTRAJ.NS',\n       'AGROPHOS.NS', 'AGROPHOS.NS', 'AGROPHOS.NS', 'AGROPHOS.NS',\n       'AGROPHOS.NS', 'AGROPHOS.NS', 'AJOONI.NS', 'AJOONI.NS',\n       'AJOONI.NS', 'AJOONI.NS', 'AJOONI.NS', 'AJOONI.NS', 'AIRAN.NS',\n       'AIRAN.NS', 'AIRAN.NS', 'AIRAN.NS', 'AIRAN.NS', 'AIRAN.NS',\n       'ABCAPITAL.NS', 'ABCAPITAL.NS', 'ABCAPITAL.NS', 'ABCAPITAL.NS',\n       'ABCAPITAL.NS', 'ABCAPITAL.NS', 'ASHOKLEY.NS', 'ASHOKLEY.NS',\n       'ASHOKLEY.NS', 'ASHOKLEY.NS', 'ASHOKLEY.NS', 'ASHOKLEY.NS',\n       'AHLWEST.NS', 'AHLWEST.NS', 'AHLWEST.NS', 'AHLWEST.NS',\n       'AHLWEST.NS', 'AHLWEST.NS', 'AJMERA.NS', 'AJMERA.NS', 'AJMERA.NS',\n       'AJMERA.NS', 'AJMERA.NS', 'AJMERA.NS', 'AKG.NS', 'AKG.NS',\n       'AKG.NS', 'AKG.NS', 'AKG.NS', 'AKG.NS', 'ANDHRAPAP.NS',\n       'ANDHRAPAP.NS', 'ANDHRAPAP.NS', 'ANDHRAPAP.NS', 'ANDHRAPAP.NS',\n       'ANDHRAPAP.NS', 'AMBANIORG.NS', 'AMBANIORG.NS', 'AMBANIORG.NS',\n       'AMBANIORG.NS', 'AMBANIORG.NS', 'AMBANIORG.NS', 'AAKASH.NS',\n       'AAKASH.NS', 'AAKASH.NS', 'AAKASH.NS', 'AAKASH.NS', 'AAKASH.NS',\n       'POWERINDIA.NS', 'POWERINDIA.NS', 'POWERINDIA.NS', 'POWERINDIA.NS',\n       'POWERINDIA.NS', 'POWERINDIA.NS', 'AARON.NS', 'AARON.NS',\n       'AARON.NS', 'AARON.NS', 'AARON.NS', 'AARON.NS', 'ALPSINDUS.NS',\n       'ALPSINDUS.NS', 'ALPSINDUS.NS', 'ALPSINDUS.NS', 'ALPSINDUS.NS',\n       'ALPSINDUS.NS', 'ARCHIES.NS', 'ARCHIES.NS', 'ARCHIES.NS',\n       'ARCHIES.NS', 'ARCHIES.NS', 'ARCHIES.NS', 'ADANIPORTS.NS',\n       'ADANIPORTS.NS', 'ADANIPORTS.NS', 'ADANIPORTS.NS', 'ADANIPORTS.NS',\n       'ADANIPORTS.NS', 'ADROITINFO.NS', 'ADROITINFO.NS', 'ADROITINFO.NS',\n       'ADROITINFO.NS', 'ADROITINFO.NS', 'ADROITINFO.NS', 'AARVI.NS',\n       'AARVI.NS', 'AARVI.NS', 'AARVI.NS', 'AARVI.NS', 'AARVI.NS',\n       'AMRUTANJAN.NS', 'AMRUTANJAN.NS', 'AMRUTANJAN.NS', 'AMRUTANJAN.NS',\n       'AMRUTANJAN.NS', 'AMRUTANJAN.NS', 'ADANIGAS.NS', 'ADANIGAS.NS',\n       'ADANIGAS.NS', 'ADANIGAS.NS', 'ADANIGAS.NS', 'ADANIGAS.NS',\n       'ADFFOODS.NS', 'ADFFOODS.NS', 'ADFFOODS.NS', 'ADFFOODS.NS',\n       'ADFFOODS.NS', 'ADFFOODS.NS', 'APOLLOTYRE.NS', 'APOLLOTYRE.NS',\n       'APOLLOTYRE.NS', 'APOLLOTYRE.NS', 'APOLLOTYRE.NS', 'APOLLOTYRE.NS',\n       'ARTNIRMAN.NS', 'ARTNIRMAN.NS', 'ARTNIRMAN.NS', 'ARTNIRMAN.NS',\n       'ARTNIRMAN.NS', 'ARTNIRMAN.NS', 'ALKALI.NS', 'ALKALI.NS',\n       'ALKALI.NS', 'ALKALI.NS', 'ALKALI.NS', 'ALKALI.NS', 'ASTERDM.NS',\n       'ASTERDM.NS', 'ASTERDM.NS', 'ASTERDM.NS', 'ASTERDM.NS',\n       'ASTERDM.NS', 'ANSALHSG.NS', 'ANSALHSG.NS', 'ANSALHSG.NS',\n       'ANSALHSG.NS', 'ANSALHSG.NS', 'ANSALHSG.NS', 'ALBERTDAVD.NS',\n       'ALBERTDAVD.NS', 'ALBERTDAVD.NS', 'ALBERTDAVD.NS', 'ALBERTDAVD.NS',\n       'ALBERTDAVD.NS', 'AGARIND.NS', 'AGARIND.NS', 'AGARIND.NS',\n       'AGARIND.NS', 'AGARIND.NS', 'AGARIND.NS', 'ASHIMASYN.NS',\n       'ASHIMASYN.NS', 'ASHIMASYN.NS', 'ASHIMASYN.NS', 'ASHIMASYN.NS',\n       'ASHIMASYN.NS', 'AMARAJABAT.NS', 'AMARAJABAT.NS', 'AMARAJABAT.NS',\n       'AMARAJABAT.NS', 'AMARAJABAT.NS', 'AMARAJABAT.NS', 'APARINDS.NS',\n       'APARINDS.NS', 'APARINDS.NS', 'APARINDS.NS', 'APARINDS.NS',\n       'APARINDS.NS', '21STCENMGM.NS', '21STCENMGM.NS', '21STCENMGM.NS',\n       '21STCENMGM.NS', '21STCENMGM.NS', '21STCENMGM.NS', 'ASIANPAINT.NS',\n       'ASIANPAINT.NS', 'ASIANPAINT.NS', 'ASIANPAINT.NS', 'ASIANPAINT.NS',\n       'ASIANPAINT.NS', 'ADANITRANS.NS', 'ADANITRANS.NS', 'ADANITRANS.NS',\n       'ADANITRANS.NS', 'ADANITRANS.NS', 'ADANITRANS.NS', 'AHLADA.NS',\n       'AHLADA.NS', 'AHLADA.NS', 'AHLADA.NS', 'AHLADA.NS', 'AHLADA.NS',\n       'AMBER.NS', 'AMBER.NS', 'AMBER.NS', 'AMBER.NS', 'AMBER.NS',\n       'AMBER.NS', 'AROGRANITE.NS', 'AROGRANITE.NS', 'AROGRANITE.NS',\n       'AROGRANITE.NS', 'AROGRANITE.NS', 'AROGRANITE.NS', 'APLAPOLLO.NS',\n       'APLAPOLLO.NS', 'APLAPOLLO.NS', 'APLAPOLLO.NS', 'APLAPOLLO.NS',\n       'APLAPOLLO.NS', 'ARTEMISMED.NS', 'ARTEMISMED.NS', 'ARTEMISMED.NS',\n       'ARTEMISMED.NS', 'ARTEMISMED.NS', 'ARTEMISMED.NS', 'AKSHARCHEM.NS',\n       'AKSHARCHEM.NS', 'AKSHARCHEM.NS', 'AKSHARCHEM.NS', 'AKSHARCHEM.NS',\n       'AKSHARCHEM.NS', 'ASHOKA.NS', 'ASHOKA.NS', 'ASHOKA.NS',\n       'ASHOKA.NS', 'ASHOKA.NS', 'ASHOKA.NS', 'ARTEDZ.NS', 'ARTEDZ.NS',\n       'ARTEDZ.NS', 'ARTEDZ.NS', 'ARTEDZ.NS', 'ARTEDZ.NS', 'ABINFRA.NS',\n       'ABINFRA.NS', 'ABINFRA.NS', 'ABINFRA.NS', 'ABINFRA.NS',\n       'ABINFRA.NS', 'ALPHAGEO.NS', 'ALPHAGEO.NS', 'ALPHAGEO.NS',\n       'ALPHAGEO.NS', 'ALPHAGEO.NS', 'ALPHAGEO.NS', 'AISL.NS', 'AISL.NS',\n       'AISL.NS', 'AISL.NS', 'AISL.NS', 'AISL.NS', 'AMBUJACEM.NS',\n       'AMBUJACEM.NS', 'AMBUJACEM.NS', 'AMBUJACEM.NS', 'AMBUJACEM.NS',\n       'AMBUJACEM.NS', 'ASPINWALL.NS', 'ASPINWALL.NS', 'ASPINWALL.NS',\n       'ASPINWALL.NS', 'ASPINWALL.NS', 'ASPINWALL.NS', 'ASTRAZEN.NS',\n       'ASTRAZEN.NS', 'ASTRAZEN.NS', 'ASTRAZEN.NS', 'ASTRAZEN.NS',\n       'ASTRAZEN.NS', 'APCOTEXIND.NS', 'APCOTEXIND.NS', 'APCOTEXIND.NS',\n       'APCOTEXIND.NS', 'APCOTEXIND.NS', 'APCOTEXIND.NS', 'AIAENG.NS',\n       'AIAENG.NS', 'AIAENG.NS', 'AIAENG.NS', 'AIAENG.NS', 'AIAENG.NS',\n       'ASCOM.NS', 'ASCOM.NS', 'ASCOM.NS', 'ASCOM.NS', 'ASCOM.NS',\n       'ASCOM.NS', 'ASIANHOTNR.NS', 'ASIANHOTNR.NS', 'ASIANHOTNR.NS',\n       'ASIANHOTNR.NS', 'ASIANHOTNR.NS', 'ASIANHOTNR.NS', 'ARCOTECH.NS',\n       'ARCOTECH.NS', 'ARCOTECH.NS', 'ARCOTECH.NS', 'ARCOTECH.NS',\n       'ARCOTECH.NS', 'ADVANIHOTR.NS', 'ADVANIHOTR.NS', 'ADVANIHOTR.NS',\n       'ADVANIHOTR.NS', 'ADVANIHOTR.NS', 'ADVANIHOTR.NS', 'ANGELBRKG.NS',\n       'ANGELBRKG.NS', 'ANGELBRKG.NS', 'ANGELBRKG.NS', 'ANGELBRKG.NS',\n       'ANGELBRKG.NS', 'ADANIENT.NS', 'ADANIENT.NS', 'ADANIENT.NS',\n       'ADANIENT.NS', 'ADANIENT.NS', 'ADANIENT.NS', 'AKZOINDIA.NS',\n       'AKZOINDIA.NS', 'AKZOINDIA.NS', 'AKZOINDIA.NS', 'AKZOINDIA.NS',\n       'AKZOINDIA.NS', 'ASHAPURMIN.NS', 'ASHAPURMIN.NS', 'ASHAPURMIN.NS',\n       'ASHAPURMIN.NS', 'ASHAPURMIN.NS', 'ASHAPURMIN.NS', 'AAVAS.NS',\n       'AAVAS.NS', 'AAVAS.NS', 'AAVAS.NS', 'AAVAS.NS', 'AAVAS.NS',\n       'AGRITECH.NS', 'AGRITECH.NS', 'AGRITECH.NS', 'AGRITECH.NS',\n       'AGRITECH.NS', 'AGRITECH.NS', 'ADHUNIKIND.NS', 'ADHUNIKIND.NS',\n       'ADHUNIKIND.NS', 'ADHUNIKIND.NS', 'ADHUNIKIND.NS', 'ADHUNIKIND.NS',\n       'ARIES.NS', 'ARIES.NS', 'ARIES.NS', 'ARIES.NS', 'ARIES.NS',\n       'ARIES.NS', 'ADLABS.NS', 'ADLABS.NS', 'ADLABS.NS', 'ADLABS.NS',\n       'ADLABS.NS', 'ADLABS.NS', '63MOONS.NS', '63MOONS.NS', '63MOONS.NS',\n       '63MOONS.NS', '63MOONS.NS', '63MOONS.NS', 'AARVEEDEN.NS',\n       'AARVEEDEN.NS', 'AARVEEDEN.NS', 'AARVEEDEN.NS', 'AARVEEDEN.NS',\n       'AARVEEDEN.NS', 'APOLLOPIPE.NS', 'APOLLOPIPE.NS', 'APOLLOPIPE.NS',\n       'APOLLOPIPE.NS', 'APOLLOPIPE.NS', 'APOLLOPIPE.NS', 'ARVIND.NS',\n       'ARVIND.NS', 'ARVIND.NS', 'ARVIND.NS', 'ARVIND.NS', 'ARVIND.NS',\n       'AMDIND.NS', 'AMDIND.NS', 'AMDIND.NS', 'AMDIND.NS', 'AMDIND.NS',\n       'AMDIND.NS', 'ALLCARGO.NS', 'ALLCARGO.NS', 'ALLCARGO.NS',\n       'ALLCARGO.NS', 'ALLCARGO.NS', 'ALLCARGO.NS', 'AHIMSA.NS',\n       'AHIMSA.NS', 'AHIMSA.NS', 'AHIMSA.NS', 'AHIMSA.NS', 'AHIMSA.NS',\n       'APOLLOHOSP.NS', 'APOLLOHOSP.NS', 'APOLLOHOSP.NS', 'APOLLOHOSP.NS',\n       'APOLLOHOSP.NS', 'APOLLOHOSP.NS', 'ADSL.NS', 'ADSL.NS', 'ADSL.NS',\n       'ADSL.NS', 'ADSL.NS', 'ADSL.NS', 'ANKITMETAL.NS', 'ANKITMETAL.NS',\n       'ANKITMETAL.NS', 'ANKITMETAL.NS', 'ANKITMETAL.NS', 'ANKITMETAL.NS',\n       'ALOKINDS.NS', 'ALOKINDS.NS', 'ALOKINDS.NS', 'ALOKINDS.NS',\n       'ALOKINDS.NS', 'ALOKINDS.NS', 'AKASH.NS', 'AKASH.NS', 'AKASH.NS',\n       'AKASH.NS', 'AKASH.NS', 'AKASH.NS', 'AHLUCONT.NS', 'AHLUCONT.NS',\n       'AHLUCONT.NS', 'AHLUCONT.NS', 'AHLUCONT.NS', 'AHLUCONT.NS',\n       'ASLIND.NS', 'ASLIND.NS', 'ASLIND.NS', 'ASLIND.NS', 'ASLIND.NS',\n       'ASLIND.NS', 'ASIL.NS', 'ASIL.NS', 'ASIL.NS', 'ASIL.NS', 'ASIL.NS',\n       'ASIL.NS', 'ACCORD.NS', 'ACCORD.NS', 'ACCORD.NS', 'ACCORD.NS',\n       'ACCORD.NS', 'ACCORD.NS', 'AARTIDRUGS.NS', 'AARTIDRUGS.NS',\n       'AARTIDRUGS.NS', 'AARTIDRUGS.NS', 'AARTIDRUGS.NS', 'AARTIDRUGS.NS',\n       'AMBIKCO.NS', 'AMBIKCO.NS', 'AMBIKCO.NS', 'AMBIKCO.NS',\n       'AMBIKCO.NS', 'AMBIKCO.NS', 'ARVEE.NS', 'ARVEE.NS', 'ARVEE.NS',\n       'ARVEE.NS', 'ARVEE.NS', 'ARVEE.NS', 'ARROWGREEN.NS',\n       'ARROWGREEN.NS', 'ARROWGREEN.NS', 'ARROWGREEN.NS', 'ARROWGREEN.NS',\n       'ARROWGREEN.NS', 'APTECHT.NS', 'APTECHT.NS', 'APTECHT.NS',\n       'APTECHT.NS', 'APTECHT.NS', 'APTECHT.NS', 'ALANKIT.NS',\n       'ALANKIT.NS', 'ALANKIT.NS', 'ALANKIT.NS', 'ALANKIT.NS',\n       'ALANKIT.NS', 'ALKEM.NS', 'ALKEM.NS', 'ALKEM.NS', 'ALKEM.NS',\n       'ALKEM.NS', 'ALKEM.NS', 'ALKYLAMINE.NS', 'ALKYLAMINE.NS',\n       'ALKYLAMINE.NS', 'ALKYLAMINE.NS', 'ALKYLAMINE.NS', 'ALKYLAMINE.NS',\n       'ARVINDFASN.NS', 'ARVINDFASN.NS', 'ARVINDFASN.NS', 'ARVINDFASN.NS',\n       'ARVINDFASN.NS', 'ARVINDFASN.NS', 'AGCNET.NS', 'AGCNET.NS',\n       'AGCNET.NS', 'AGCNET.NS', 'AGCNET.NS', 'AGCNET.NS', 'A2ZINFRA.NS',\n       'A2ZINFRA.NS', 'A2ZINFRA.NS', 'A2ZINFRA.NS', 'A2ZINFRA.NS',\n       'A2ZINFRA.NS', 'ADORWELD.NS', 'ADORWELD.NS', 'ADORWELD.NS',\n       'ADORWELD.NS', 'ADORWELD.NS', 'ADORWELD.NS', 'ANDHRACEMT.NS',\n       'ANDHRACEMT.NS', 'ANDHRACEMT.NS', 'ANDHRACEMT.NS', 'ANDHRACEMT.NS',\n       'ANDHRACEMT.NS', 'ABB.NS', 'ABB.NS', 'ABB.NS', 'ABB.NS', 'ABB.NS',\n       'ABB.NS', 'ABFRL.NS', 'ABFRL.NS', 'ABFRL.NS', 'ABFRL.NS',\n       'ABFRL.NS', 'ABFRL.NS', 'APLLTD.NS', 'APLLTD.NS', 'APLLTD.NS',\n       'APLLTD.NS', 'APLLTD.NS', 'APLLTD.NS', 'ANSALAPI.NS',\n       'ANSALAPI.NS', 'ANSALAPI.NS', 'ANSALAPI.NS', 'ANSALAPI.NS',\n       'ANSALAPI.NS', 'ARMANFIN.NS', 'ARMANFIN.NS', 'ARMANFIN.NS',\n       'ARMANFIN.NS', 'ARMANFIN.NS', 'ARMANFIN.NS', 'AEGISCHEM.NS',\n       'AEGISCHEM.NS', 'AEGISCHEM.NS', 'AEGISCHEM.NS', 'AEGISCHEM.NS',\n       'AEGISCHEM.NS', 'BIRLAMONEY.NS', 'BIRLAMONEY.NS', 'BIRLAMONEY.NS',\n       'BIRLAMONEY.NS', 'BIRLAMONEY.NS', 'BIRLAMONEY.NS', 'ATFL.NS',\n       'ATFL.NS', 'ATFL.NS', 'ATFL.NS', 'ATFL.NS', 'ATFL.NS',\n       'AMJLAND.NS', 'AMJLAND.NS', 'AMJLAND.NS', 'AMJLAND.NS',\n       'AMJLAND.NS', 'AMJLAND.NS', 'ASIANTILES.NS', 'ASIANTILES.NS',\n       'ASIANTILES.NS', 'ASIANTILES.NS', 'ASIANTILES.NS', 'ASIANTILES.NS',\n       'ACCURACY.NS', 'ACCURACY.NS', 'ACCURACY.NS', 'ACCURACY.NS',\n       'ACCURACY.NS', 'ACCURACY.NS', 'ALICON.NS', 'ALICON.NS',\n       'ALICON.NS', 'ALICON.NS', 'ALICON.NS', 'ALICON.NS', '3PLAND.NS',\n       '3PLAND.NS', '3PLAND.NS', '3PLAND.NS', '3PLAND.NS', '3PLAND.NS'],\n      dtype=object)"
     },
     "execution_count": 9,
     "metadata": {},
     "output_type": "execute_result"
    }
   ],
   "source": [
    "d.index.get_level_values(0).values"
   ],
   "metadata": {
    "collapsed": false,
    "ExecuteTime": {
     "end_time": "2023-09-26T15:24:03.418741300Z",
     "start_time": "2023-09-26T15:24:03.386018200Z"
    }
   },
   "id": "e3f282d1f9530300"
  },
  {
   "cell_type": "code",
   "execution_count": 11,
   "outputs": [
    {
     "data": {
      "text/plain": "0        ACEINTEG.NS\n6          ALCHEM.NS\n12         5PAISA.NS\n18     ASAHIINDIA.NS\n24            ACE.NS\n           ...      \n876       AMJLAND.NS\n882    ASIANTILES.NS\n888      ACCURACY.NS\n894        ALICON.NS\n900        3PLAND.NS\nLength: 151, dtype: object"
     },
     "execution_count": 11,
     "metadata": {},
     "output_type": "execute_result"
    }
   ],
   "source": [
    "pd.Series(d.index.get_level_values(0).values).drop_duplicates()"
   ],
   "metadata": {
    "collapsed": false,
    "ExecuteTime": {
     "end_time": "2023-09-26T15:28:00.257806Z",
     "start_time": "2023-09-26T15:28:00.230866900Z"
    }
   },
   "id": "4b95ba2310c5d3c5"
  },
  {
   "cell_type": "code",
   "execution_count": 19,
   "outputs": [
    {
     "data": {
      "text/plain": "Empty DataFrame\nColumns: [Open, High, Low, Close, Adj Close, Volume]\nIndex: []",
      "text/html": "<div>\n<style scoped>\n    .dataframe tbody tr th:only-of-type {\n        vertical-align: middle;\n    }\n\n    .dataframe tbody tr th {\n        vertical-align: top;\n    }\n\n    .dataframe thead th {\n        text-align: right;\n    }\n</style>\n<table border=\"1\" class=\"dataframe\">\n  <thead>\n    <tr style=\"text-align: right;\">\n      <th></th>\n      <th>Open</th>\n      <th>High</th>\n      <th>Low</th>\n      <th>Close</th>\n      <th>Adj Close</th>\n      <th>Volume</th>\n    </tr>\n  </thead>\n  <tbody>\n  </tbody>\n</table>\n</div>"
     },
     "execution_count": 19,
     "metadata": {},
     "output_type": "execute_result"
    }
   ],
   "source": [
    "a = d.loc[\"ABMINTLTD.NS\"].T.dropna()\n",
    "a.index = pd.to_datetime(a.index).date\n",
    "a"
   ],
   "metadata": {
    "collapsed": false,
    "ExecuteTime": {
     "end_time": "2023-09-26T16:38:24.877057300Z",
     "start_time": "2023-09-26T16:38:24.837342500Z"
    }
   },
   "id": "618bc38aab71ad9f"
  },
  {
   "cell_type": "code",
   "execution_count": null,
   "outputs": [],
   "source": [],
   "metadata": {
    "collapsed": false
   },
   "id": "ba6bf47289a6bea7"
  }
 ],
 "metadata": {
  "kernelspec": {
   "display_name": "Python 3",
   "language": "python",
   "name": "python3"
  },
  "language_info": {
   "codemirror_mode": {
    "name": "ipython",
    "version": 2
   },
   "file_extension": ".py",
   "mimetype": "text/x-python",
   "name": "python",
   "nbconvert_exporter": "python",
   "pygments_lexer": "ipython2",
   "version": "2.7.6"
  }
 },
 "nbformat": 4,
 "nbformat_minor": 5
}
